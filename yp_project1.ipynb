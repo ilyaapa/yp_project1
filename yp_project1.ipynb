{
 "cells": [
  {
   "cell_type": "markdown",
   "metadata": {
    "deletable": false,
    "editable": false,
    "id": "E0vqbgi9ay0H"
   },
   "source": [
    "# Яндекс Музыка"
   ]
  },
  {
   "cell_type": "markdown",
   "metadata": {
    "deletable": false,
    "editable": false,
    "id": "VUC88oWjTJw2"
   },
   "source": [
    "Сравнение Москвы и Петербурга окружено мифами. Например:\n",
    " * Москва — мегаполис, подчинённый жёсткому ритму рабочей недели;\n",
    " * Петербург — культурная столица, со своими вкусами.\n",
    "\n",
    "На данных Яндекс Музыки вы сравните поведение пользователей двух столиц.\n",
    "\n",
    "**Цель исследования** — проверьте три гипотезы:\n",
    "1. Активность пользователей зависит от дня недели. Причём в Москве и Петербурге это проявляется по-разному.\n",
    "2. В понедельник утром в Москве преобладают одни жанры, а в Петербурге — другие. Так же и вечером пятницы преобладают разные жанры — в зависимости от города.\n",
    "3. Москва и Петербург предпочитают разные жанры музыки. В Москве чаще слушают поп-музыку, в Петербурге — русский рэп.\n",
    "\n",
    "**Ход исследования**\n",
    "\n",
    "Данные о поведении пользователей вы получите из файла `yandex_music_project.csv`. О качестве данных ничего не известно. Поэтому перед проверкой гипотез понадобится обзор данных.\n",
    "\n",
    "Вы проверите данные на ошибки и оцените их влияние на исследование. Затем, на этапе предобработки вы поищете возможность исправить самые критичные ошибки данных.\n",
    "\n",
    "Таким образом, исследование пройдёт в три этапа:\n",
    " 1. Обзор данных.\n",
    " 2. Предобработка данных.\n",
    " 3. Проверка гипотез.\n",
    "\n"
   ]
  },
  {
   "cell_type": "markdown",
   "metadata": {
    "deletable": false,
    "editable": false,
    "id": "Ml1hmfXC_Zcs"
   },
   "source": [
    "## Обзор данных\n",
    "\n",
    "Составьте первое представление о данных Яндекс Музыки.\n",
    "\n",
    "\n"
   ]
  },
  {
   "cell_type": "markdown",
   "metadata": {
    "deletable": false,
    "editable": false,
    "id": "57eAOGIz_Zcs",
    "tags": [
     "start_task"
    ]
   },
   "source": [
    "**Задание 1**"
   ]
  },
  {
   "cell_type": "code",
   "execution_count": 1,
   "metadata": {
    "deletable": false,
    "id": "AXN7PHPN_Zcs"
   },
   "outputs": [],
   "source": [
    "import pandas as pd # импорт библиотеки pandas"
   ]
  },
  {
   "cell_type": "markdown",
   "metadata": {
    "deletable": false,
    "editable": false,
    "id": "SG23P8tt_Zcs",
    "tags": [
     "start_task"
    ]
   },
   "source": [
    "**Задание 2**"
   ]
  },
  {
   "cell_type": "code",
   "execution_count": 2,
   "metadata": {
    "deletable": false,
    "id": "fFVu7vqh_Zct"
   },
   "outputs": [],
   "source": [
    "df = pd.read_csv('/datasets/yandex_music_project.csv') # чтение файла с данными и сохранение в df"
   ]
  },
  {
   "cell_type": "markdown",
   "metadata": {
    "deletable": false,
    "editable": false,
    "id": "rDoOMd3uTqnZ",
    "tags": [
     "start_task"
    ]
   },
   "source": [
    "**Задание 3**"
   ]
  },
  {
   "cell_type": "code",
   "execution_count": 3,
   "metadata": {
    "deletable": false,
    "id": "oWTVX3gW_Zct"
   },
   "outputs": [
    {
     "data": {
      "text/html": [
       "<div>\n",
       "<style scoped>\n",
       "    .dataframe tbody tr th:only-of-type {\n",
       "        vertical-align: middle;\n",
       "    }\n",
       "\n",
       "    .dataframe tbody tr th {\n",
       "        vertical-align: top;\n",
       "    }\n",
       "\n",
       "    .dataframe thead th {\n",
       "        text-align: right;\n",
       "    }\n",
       "</style>\n",
       "<table border=\"1\" class=\"dataframe\">\n",
       "  <thead>\n",
       "    <tr style=\"text-align: right;\">\n",
       "      <th></th>\n",
       "      <th>userID</th>\n",
       "      <th>Track</th>\n",
       "      <th>artist</th>\n",
       "      <th>genre</th>\n",
       "      <th>City</th>\n",
       "      <th>time</th>\n",
       "      <th>Day</th>\n",
       "    </tr>\n",
       "  </thead>\n",
       "  <tbody>\n",
       "    <tr>\n",
       "      <th>0</th>\n",
       "      <td>FFB692EC</td>\n",
       "      <td>Kamigata To Boots</td>\n",
       "      <td>The Mass Missile</td>\n",
       "      <td>rock</td>\n",
       "      <td>Saint-Petersburg</td>\n",
       "      <td>20:28:33</td>\n",
       "      <td>Wednesday</td>\n",
       "    </tr>\n",
       "    <tr>\n",
       "      <th>1</th>\n",
       "      <td>55204538</td>\n",
       "      <td>Delayed Because of Accident</td>\n",
       "      <td>Andreas Rönnberg</td>\n",
       "      <td>rock</td>\n",
       "      <td>Moscow</td>\n",
       "      <td>14:07:09</td>\n",
       "      <td>Friday</td>\n",
       "    </tr>\n",
       "    <tr>\n",
       "      <th>2</th>\n",
       "      <td>20EC38</td>\n",
       "      <td>Funiculì funiculà</td>\n",
       "      <td>Mario Lanza</td>\n",
       "      <td>pop</td>\n",
       "      <td>Saint-Petersburg</td>\n",
       "      <td>20:58:07</td>\n",
       "      <td>Wednesday</td>\n",
       "    </tr>\n",
       "    <tr>\n",
       "      <th>3</th>\n",
       "      <td>A3DD03C9</td>\n",
       "      <td>Dragons in the Sunset</td>\n",
       "      <td>Fire + Ice</td>\n",
       "      <td>folk</td>\n",
       "      <td>Saint-Petersburg</td>\n",
       "      <td>08:37:09</td>\n",
       "      <td>Monday</td>\n",
       "    </tr>\n",
       "    <tr>\n",
       "      <th>4</th>\n",
       "      <td>E2DC1FAE</td>\n",
       "      <td>Soul People</td>\n",
       "      <td>Space Echo</td>\n",
       "      <td>dance</td>\n",
       "      <td>Moscow</td>\n",
       "      <td>08:34:34</td>\n",
       "      <td>Monday</td>\n",
       "    </tr>\n",
       "    <tr>\n",
       "      <th>5</th>\n",
       "      <td>842029A1</td>\n",
       "      <td>Преданная</td>\n",
       "      <td>IMPERVTOR</td>\n",
       "      <td>rusrap</td>\n",
       "      <td>Saint-Petersburg</td>\n",
       "      <td>13:09:41</td>\n",
       "      <td>Friday</td>\n",
       "    </tr>\n",
       "    <tr>\n",
       "      <th>6</th>\n",
       "      <td>4CB90AA5</td>\n",
       "      <td>True</td>\n",
       "      <td>Roman Messer</td>\n",
       "      <td>dance</td>\n",
       "      <td>Moscow</td>\n",
       "      <td>13:00:07</td>\n",
       "      <td>Wednesday</td>\n",
       "    </tr>\n",
       "    <tr>\n",
       "      <th>7</th>\n",
       "      <td>F03E1C1F</td>\n",
       "      <td>Feeling This Way</td>\n",
       "      <td>Polina Griffith</td>\n",
       "      <td>dance</td>\n",
       "      <td>Moscow</td>\n",
       "      <td>20:47:49</td>\n",
       "      <td>Wednesday</td>\n",
       "    </tr>\n",
       "    <tr>\n",
       "      <th>8</th>\n",
       "      <td>8FA1D3BE</td>\n",
       "      <td>И вновь продолжается бой</td>\n",
       "      <td>NaN</td>\n",
       "      <td>ruspop</td>\n",
       "      <td>Moscow</td>\n",
       "      <td>09:17:40</td>\n",
       "      <td>Friday</td>\n",
       "    </tr>\n",
       "    <tr>\n",
       "      <th>9</th>\n",
       "      <td>E772D5C0</td>\n",
       "      <td>Pessimist</td>\n",
       "      <td>NaN</td>\n",
       "      <td>dance</td>\n",
       "      <td>Saint-Petersburg</td>\n",
       "      <td>21:20:49</td>\n",
       "      <td>Wednesday</td>\n",
       "    </tr>\n",
       "  </tbody>\n",
       "</table>\n",
       "</div>"
      ],
      "text/plain": [
       "     userID                        Track            artist   genre  \\\n",
       "0  FFB692EC            Kamigata To Boots  The Mass Missile    rock   \n",
       "1  55204538  Delayed Because of Accident  Andreas Rönnberg    rock   \n",
       "2    20EC38            Funiculì funiculà       Mario Lanza     pop   \n",
       "3  A3DD03C9        Dragons in the Sunset        Fire + Ice    folk   \n",
       "4  E2DC1FAE                  Soul People        Space Echo   dance   \n",
       "5  842029A1                    Преданная         IMPERVTOR  rusrap   \n",
       "6  4CB90AA5                         True      Roman Messer   dance   \n",
       "7  F03E1C1F             Feeling This Way   Polina Griffith   dance   \n",
       "8  8FA1D3BE     И вновь продолжается бой               NaN  ruspop   \n",
       "9  E772D5C0                    Pessimist               NaN   dance   \n",
       "\n",
       "             City        time        Day  \n",
       "0  Saint-Petersburg  20:28:33  Wednesday  \n",
       "1            Moscow  14:07:09     Friday  \n",
       "2  Saint-Petersburg  20:58:07  Wednesday  \n",
       "3  Saint-Petersburg  08:37:09     Monday  \n",
       "4            Moscow  08:34:34     Monday  \n",
       "5  Saint-Petersburg  13:09:41     Friday  \n",
       "6            Moscow  13:00:07  Wednesday  \n",
       "7            Moscow  20:47:49  Wednesday  \n",
       "8            Moscow  09:17:40     Friday  \n",
       "9  Saint-Petersburg  21:20:49  Wednesday  "
      ]
     },
     "execution_count": 3,
     "metadata": {},
     "output_type": "execute_result"
    }
   ],
   "source": [
    "df.head(10) # получение первых 10 строк таблицы df"
   ]
  },
  {
   "cell_type": "markdown",
   "metadata": {
    "deletable": false,
    "editable": false,
    "id": "EO73Kwic_Zct",
    "tags": [
     "start_task"
    ]
   },
   "source": [
    "**Задание 4**"
   ]
  },
  {
   "cell_type": "code",
   "execution_count": 4,
   "metadata": {
    "deletable": false,
    "id": "DSf2kIb-_Zct"
   },
   "outputs": [
    {
     "name": "stdout",
     "output_type": "stream",
     "text": [
      "<class 'pandas.core.frame.DataFrame'>\n",
      "RangeIndex: 65079 entries, 0 to 65078\n",
      "Data columns (total 7 columns):\n",
      " #   Column    Non-Null Count  Dtype \n",
      "---  ------    --------------  ----- \n",
      " 0     userID  65079 non-null  object\n",
      " 1   Track     63848 non-null  object\n",
      " 2   artist    57876 non-null  object\n",
      " 3   genre     63881 non-null  object\n",
      " 4     City    65079 non-null  object\n",
      " 5   time      65079 non-null  object\n",
      " 6   Day       65079 non-null  object\n",
      "dtypes: object(7)\n",
      "memory usage: 3.5+ MB\n"
     ]
    }
   ],
   "source": [
    "df.info() # получение общей информации о данных в таблице df"
   ]
  },
  {
   "cell_type": "markdown",
   "metadata": {
    "deletable": false,
    "editable": false,
    "id": "TaQ2Iwbr_Zct"
   },
   "source": [
    "Количество значений в столбцах различается. Значит, в данных есть пропущенные значения."
   ]
  },
  {
   "cell_type": "markdown",
   "metadata": {
    "deletable": false,
    "editable": false,
    "id": "4P0UCWzswgEm",
    "tags": [
     "start_task"
    ]
   },
   "source": [
    "**Задание 5**"
   ]
  },
  {
   "cell_type": "code",
   "execution_count": 5,
   "metadata": {
    "id": "c137-ZstwgEm"
   },
   "outputs": [],
   "source": [
    "# userID - лишние пробелыб не в snake_case,\n",
    "#   City - лишние пробелы, не в snake_case,\n",
    "# Track - не в snake_case."
   ]
  },
  {
   "cell_type": "markdown",
   "metadata": {
    "deletable": false,
    "editable": false,
    "id": "MCB6-dXG_Zct"
   },
   "source": [
    "**Выводы**\n",
    "\n",
    "В каждой строке таблицы — данные о прослушанном треке. Часть колонок описывает саму композицию: название, исполнителя и жанр. Остальные данные рассказывают о пользователе: из какого он города, когда он слушал музыку.\n",
    "\n",
    "Предварительно можно утверждать, что данных достаточно для проверки гипотез. Но встречаются пропуски в данных, а в названиях колонок — расхождения с хорошим стилем.\n",
    "\n",
    "Чтобы двигаться дальше, нужно устранить проблемы в данных."
   ]
  },
  {
   "cell_type": "markdown",
   "metadata": {
    "deletable": false,
    "editable": false,
    "id": "SjYF6Ub9_Zct"
   },
   "source": [
    "## Предобработка данных"
   ]
  },
  {
   "cell_type": "markdown",
   "metadata": {
    "deletable": false,
    "editable": false,
    "id": "dIaKXr29_Zct",
    "tags": [
     "start_task"
    ]
   },
   "source": [
    "### Переименование столбцов\n",
    "\n",
    "**Задание 6**"
   ]
  },
  {
   "cell_type": "code",
   "execution_count": 6,
   "metadata": {
    "deletable": false,
    "id": "oKOTdF_Q_Zct"
   },
   "outputs": [
    {
     "data": {
      "text/plain": [
       "Index(['  userID', 'Track', 'artist', 'genre', '  City  ', 'time', 'Day'], dtype='object')"
      ]
     },
     "execution_count": 6,
     "metadata": {},
     "output_type": "execute_result"
    }
   ],
   "source": [
    "df.columns # перечень названий столбцов таблицы df"
   ]
  },
  {
   "cell_type": "markdown",
   "metadata": {
    "deletable": false,
    "editable": false,
    "id": "zj5534cv_Zct",
    "tags": [
     "start_task"
    ]
   },
   "source": [
    "**Задание 7**"
   ]
  },
  {
   "cell_type": "code",
   "execution_count": 7,
   "metadata": {
    "deletable": false,
    "id": "ISlFqs5y_Zct"
   },
   "outputs": [],
   "source": [
    "df = df.rename(columns = {'  userID' : 'user_id', 'Track' : 'track', '  City  ' : 'city', 'Day' : 'day'}) # переименование столбцов"
   ]
  },
  {
   "cell_type": "markdown",
   "metadata": {
    "deletable": false,
    "editable": false,
    "id": "1dqbh00J_Zct",
    "tags": [
     "start_task"
    ]
   },
   "source": [
    "**Задание 8**"
   ]
  },
  {
   "cell_type": "code",
   "execution_count": 8,
   "metadata": {
    "deletable": false,
    "id": "d4NOAmTW_Zct"
   },
   "outputs": [
    {
     "data": {
      "text/plain": [
       "Index(['user_id', 'track', 'artist', 'genre', 'city', 'time', 'day'], dtype='object')"
      ]
     },
     "execution_count": 8,
     "metadata": {},
     "output_type": "execute_result"
    }
   ],
   "source": [
    "df.columns # проверка результатов - перечень названий столбцов"
   ]
  },
  {
   "cell_type": "markdown",
   "metadata": {
    "deletable": false,
    "editable": false,
    "id": "5ISfbcfY_Zct",
    "tags": [
     "start_task"
    ]
   },
   "source": [
    "### Обработка пропущенных значений\n",
    "\n",
    "**Задание 9**"
   ]
  },
  {
   "cell_type": "code",
   "execution_count": 9,
   "metadata": {
    "deletable": false,
    "id": "RskX29qr_Zct"
   },
   "outputs": [
    {
     "data": {
      "text/plain": [
       "user_id       0\n",
       "track      1231\n",
       "artist     7203\n",
       "genre      1198\n",
       "city          0\n",
       "time          0\n",
       "day           0\n",
       "dtype: int64"
      ]
     },
     "execution_count": 9,
     "metadata": {},
     "output_type": "execute_result"
    }
   ],
   "source": [
    "df.isna().sum()# подсчёт пропусков"
   ]
  },
  {
   "cell_type": "markdown",
   "metadata": {
    "deletable": false,
    "editable": false,
    "id": "fSv2laPA_Zct",
    "tags": [
     "start_task"
    ]
   },
   "source": [
    "**Задание 10**"
   ]
  },
  {
   "cell_type": "code",
   "execution_count": 10,
   "metadata": {
    "deletable": false,
    "id": "KplB5qWs_Zct"
   },
   "outputs": [],
   "source": [
    "colums_to_replace = ['track', 'artist', 'genre']\n",
    "for column in colums_to_replace:\n",
    "    df[column] = df[column].fillna('unknown') # замена пропущенных значений на 'unknown'"
   ]
  },
  {
   "cell_type": "markdown",
   "metadata": {
    "deletable": false,
    "editable": false,
    "id": "Ilsm-MZo_Zct",
    "tags": [
     "start_task"
    ]
   },
   "source": [
    "**Задание 11**"
   ]
  },
  {
   "cell_type": "code",
   "execution_count": 11,
   "metadata": {
    "deletable": false,
    "id": "Tq4nYRX4_Zct"
   },
   "outputs": [
    {
     "data": {
      "text/plain": [
       "user_id    0\n",
       "track      0\n",
       "artist     0\n",
       "genre      0\n",
       "city       0\n",
       "time       0\n",
       "day        0\n",
       "dtype: int64"
      ]
     },
     "execution_count": 11,
     "metadata": {},
     "output_type": "execute_result"
    }
   ],
   "source": [
    "df.isna().sum() # проверка на отсутствие пропусков"
   ]
  },
  {
   "cell_type": "markdown",
   "metadata": {
    "deletable": false,
    "editable": false,
    "id": "BWKRtBJ3_Zct",
    "tags": [
     "start_task"
    ]
   },
   "source": [
    "### Обработка дубликатов\n",
    "\n",
    "**Задание 12**"
   ]
  },
  {
   "cell_type": "code",
   "execution_count": 12,
   "metadata": {
    "deletable": false,
    "id": "36eES_S0_Zct"
   },
   "outputs": [
    {
     "data": {
      "text/plain": [
       "3826"
      ]
     },
     "execution_count": 12,
     "metadata": {},
     "output_type": "execute_result"
    }
   ],
   "source": [
    "df.duplicated().sum() # подсчёт явных дубликатов"
   ]
  },
  {
   "cell_type": "markdown",
   "metadata": {
    "deletable": false,
    "editable": false,
    "id": "Ot25h6XR_Zct",
    "tags": [
     "start_task"
    ]
   },
   "source": [
    "**Задание 13**"
   ]
  },
  {
   "cell_type": "code",
   "execution_count": 13,
   "metadata": {
    "deletable": false,
    "id": "exFHq6tt_Zct"
   },
   "outputs": [],
   "source": [
    "df = df.drop_duplicates().reset_index(drop = True) # удаление явных дубликатов, создание новых индексов и удаление старых"
   ]
  },
  {
   "cell_type": "markdown",
   "metadata": {
    "deletable": false,
    "editable": false,
    "id": "Im2YwBEG_Zct",
    "tags": [
     "start_task"
    ]
   },
   "source": [
    "**Задание 14**"
   ]
  },
  {
   "cell_type": "code",
   "execution_count": 14,
   "metadata": {
    "deletable": false,
    "id": "-8PuNWQ0_Zct"
   },
   "outputs": [
    {
     "data": {
      "text/plain": [
       "0"
      ]
     },
     "execution_count": 14,
     "metadata": {},
     "output_type": "execute_result"
    }
   ],
   "source": [
    "df.duplicated().sum() # проверка на отсутствие явных дубликатов"
   ]
  },
  {
   "cell_type": "markdown",
   "metadata": {
    "deletable": false,
    "editable": false,
    "id": "eSjWwsOh_Zct",
    "tags": [
     "start_task"
    ]
   },
   "source": [
    "**Задание 15**"
   ]
  },
  {
   "cell_type": "code",
   "execution_count": 15,
   "metadata": {
    "deletable": false,
    "id": "JIUcqzZN_Zct"
   },
   "outputs": [
    {
     "data": {
      "text/plain": [
       "array(['acid', 'acoustic', 'action', 'adult', 'africa', 'afrikaans',\n",
       "       'alternative', 'alternativepunk', 'ambient', 'americana',\n",
       "       'animated', 'anime', 'arabesk', 'arabic', 'arena',\n",
       "       'argentinetango', 'art', 'audiobook', 'author', 'avantgarde',\n",
       "       'axé', 'baile', 'balkan', 'beats', 'bigroom', 'black', 'bluegrass',\n",
       "       'blues', 'bollywood', 'bossa', 'brazilian', 'breakbeat', 'breaks',\n",
       "       'broadway', 'cantautori', 'cantopop', 'canzone', 'caribbean',\n",
       "       'caucasian', 'celtic', 'chamber', 'chanson', 'children', 'chill',\n",
       "       'chinese', 'choral', 'christian', 'christmas', 'classical',\n",
       "       'classicmetal', 'club', 'colombian', 'comedy', 'conjazz',\n",
       "       'contemporary', 'country', 'cuban', 'dance', 'dancehall',\n",
       "       'dancepop', 'dark', 'death', 'deep', 'deutschrock', 'deutschspr',\n",
       "       'dirty', 'disco', 'dnb', 'documentary', 'downbeat', 'downtempo',\n",
       "       'drum', 'dub', 'dubstep', 'eastern', 'easy', 'electronic',\n",
       "       'electropop', 'emo', 'entehno', 'epicmetal', 'estrada', 'ethnic',\n",
       "       'eurofolk', 'european', 'experimental', 'extrememetal', 'fado',\n",
       "       'fairytail', 'film', 'fitness', 'flamenco', 'folk', 'folklore',\n",
       "       'folkmetal', 'folkrock', 'folktronica', 'forró', 'frankreich',\n",
       "       'französisch', 'french', 'funk', 'future', 'gangsta', 'garage',\n",
       "       'german', 'ghazal', 'gitarre', 'glitch', 'gospel', 'gothic',\n",
       "       'grime', 'grunge', 'gypsy', 'handsup', \"hard'n'heavy\", 'hardcore',\n",
       "       'hardstyle', 'hardtechno', 'hip', 'hip-hop', 'hiphop',\n",
       "       'historisch', 'holiday', 'hop', 'horror', 'house', 'hymn', 'idm',\n",
       "       'independent', 'indian', 'indie', 'indipop', 'industrial',\n",
       "       'inspirational', 'instrumental', 'international', 'irish', 'jam',\n",
       "       'japanese', 'jazz', 'jewish', 'jpop', 'jungle', 'k-pop',\n",
       "       'karadeniz', 'karaoke', 'kayokyoku', 'korean', 'laiko', 'latin',\n",
       "       'latino', 'leftfield', 'local', 'lounge', 'loungeelectronic',\n",
       "       'lovers', 'malaysian', 'mandopop', 'marschmusik', 'meditative',\n",
       "       'mediterranean', 'melodic', 'metal', 'metalcore', 'mexican',\n",
       "       'middle', 'minimal', 'miscellaneous', 'modern', 'mood', 'mpb',\n",
       "       'muslim', 'native', 'neoklassik', 'neue', 'new', 'newage',\n",
       "       'newwave', 'nu', 'nujazz', 'numetal', 'oceania', 'old', 'opera',\n",
       "       'orchestral', 'other', 'piano', 'podcasts', 'pop', 'popdance',\n",
       "       'popelectronic', 'popeurodance', 'poprussian', 'post',\n",
       "       'posthardcore', 'postrock', 'power', 'progmetal', 'progressive',\n",
       "       'psychedelic', 'punjabi', 'punk', 'quebecois', 'ragga', 'ram',\n",
       "       'rancheras', 'rap', 'rave', 'reggae', 'reggaeton', 'regional',\n",
       "       'relax', 'religious', 'retro', 'rhythm', 'rnb', 'rnr', 'rock',\n",
       "       'rockabilly', 'rockalternative', 'rockindie', 'rockother',\n",
       "       'romance', 'roots', 'ruspop', 'rusrap', 'rusrock', 'russian',\n",
       "       'salsa', 'samba', 'scenic', 'schlager', 'self', 'sertanejo',\n",
       "       'shanson', 'shoegazing', 'showtunes', 'singer', 'ska', 'skarock',\n",
       "       'slow', 'smooth', 'soft', 'soul', 'soulful', 'sound', 'soundtrack',\n",
       "       'southern', 'specialty', 'speech', 'spiritual', 'sport',\n",
       "       'stonerrock', 'surf', 'swing', 'synthpop', 'synthrock',\n",
       "       'sängerportrait', 'tango', 'tanzorchester', 'taraftar', 'tatar',\n",
       "       'tech', 'techno', 'teen', 'thrash', 'top', 'traditional',\n",
       "       'tradjazz', 'trance', 'tribal', 'trip', 'triphop', 'tropical',\n",
       "       'türk', 'türkçe', 'ukrrock', 'unknown', 'urban', 'uzbek',\n",
       "       'variété', 'vi', 'videogame', 'vocal', 'western', 'world',\n",
       "       'worldbeat', 'ïîï', 'электроника'], dtype=object)"
      ]
     },
     "execution_count": 15,
     "metadata": {},
     "output_type": "execute_result"
    }
   ],
   "source": [
    "df['genre'].sort_values().unique()# просмотр уникальных отсортированных названий жанров"
   ]
  },
  {
   "cell_type": "markdown",
   "metadata": {
    "deletable": false,
    "editable": false,
    "id": "qej-Qmuo_Zct",
    "tags": [
     "start_task"
    ]
   },
   "source": [
    "**Задание 16**"
   ]
  },
  {
   "cell_type": "code",
   "execution_count": 16,
   "metadata": {
    "deletable": false,
    "id": "ErNDkmns_Zct"
   },
   "outputs": [],
   "source": [
    "df['genre'] = df['genre'].replace(['hip', 'hop', 'hip-hop'], 'hiphop') # устранение неявных дубликатов"
   ]
  },
  {
   "cell_type": "markdown",
   "metadata": {
    "deletable": false,
    "editable": false,
    "id": "zQKF16_RG15m",
    "tags": [
     "start_task"
    ]
   },
   "source": [
    "**Задание 17**"
   ]
  },
  {
   "cell_type": "code",
   "execution_count": 17,
   "metadata": {
    "deletable": false,
    "id": "wvixALnFG15m"
   },
   "outputs": [
    {
     "data": {
      "text/plain": [
       "array(['acid', 'acoustic', 'action', 'adult', 'africa', 'afrikaans',\n",
       "       'alternative', 'alternativepunk', 'ambient', 'americana',\n",
       "       'animated', 'anime', 'arabesk', 'arabic', 'arena',\n",
       "       'argentinetango', 'art', 'audiobook', 'author', 'avantgarde',\n",
       "       'axé', 'baile', 'balkan', 'beats', 'bigroom', 'black', 'bluegrass',\n",
       "       'blues', 'bollywood', 'bossa', 'brazilian', 'breakbeat', 'breaks',\n",
       "       'broadway', 'cantautori', 'cantopop', 'canzone', 'caribbean',\n",
       "       'caucasian', 'celtic', 'chamber', 'chanson', 'children', 'chill',\n",
       "       'chinese', 'choral', 'christian', 'christmas', 'classical',\n",
       "       'classicmetal', 'club', 'colombian', 'comedy', 'conjazz',\n",
       "       'contemporary', 'country', 'cuban', 'dance', 'dancehall',\n",
       "       'dancepop', 'dark', 'death', 'deep', 'deutschrock', 'deutschspr',\n",
       "       'dirty', 'disco', 'dnb', 'documentary', 'downbeat', 'downtempo',\n",
       "       'drum', 'dub', 'dubstep', 'eastern', 'easy', 'electronic',\n",
       "       'electropop', 'emo', 'entehno', 'epicmetal', 'estrada', 'ethnic',\n",
       "       'eurofolk', 'european', 'experimental', 'extrememetal', 'fado',\n",
       "       'fairytail', 'film', 'fitness', 'flamenco', 'folk', 'folklore',\n",
       "       'folkmetal', 'folkrock', 'folktronica', 'forró', 'frankreich',\n",
       "       'französisch', 'french', 'funk', 'future', 'gangsta', 'garage',\n",
       "       'german', 'ghazal', 'gitarre', 'glitch', 'gospel', 'gothic',\n",
       "       'grime', 'grunge', 'gypsy', 'handsup', \"hard'n'heavy\", 'hardcore',\n",
       "       'hardstyle', 'hardtechno', 'hiphop', 'historisch', 'holiday',\n",
       "       'horror', 'house', 'hymn', 'idm', 'independent', 'indian', 'indie',\n",
       "       'indipop', 'industrial', 'inspirational', 'instrumental',\n",
       "       'international', 'irish', 'jam', 'japanese', 'jazz', 'jewish',\n",
       "       'jpop', 'jungle', 'k-pop', 'karadeniz', 'karaoke', 'kayokyoku',\n",
       "       'korean', 'laiko', 'latin', 'latino', 'leftfield', 'local',\n",
       "       'lounge', 'loungeelectronic', 'lovers', 'malaysian', 'mandopop',\n",
       "       'marschmusik', 'meditative', 'mediterranean', 'melodic', 'metal',\n",
       "       'metalcore', 'mexican', 'middle', 'minimal', 'miscellaneous',\n",
       "       'modern', 'mood', 'mpb', 'muslim', 'native', 'neoklassik', 'neue',\n",
       "       'new', 'newage', 'newwave', 'nu', 'nujazz', 'numetal', 'oceania',\n",
       "       'old', 'opera', 'orchestral', 'other', 'piano', 'podcasts', 'pop',\n",
       "       'popdance', 'popelectronic', 'popeurodance', 'poprussian', 'post',\n",
       "       'posthardcore', 'postrock', 'power', 'progmetal', 'progressive',\n",
       "       'psychedelic', 'punjabi', 'punk', 'quebecois', 'ragga', 'ram',\n",
       "       'rancheras', 'rap', 'rave', 'reggae', 'reggaeton', 'regional',\n",
       "       'relax', 'religious', 'retro', 'rhythm', 'rnb', 'rnr', 'rock',\n",
       "       'rockabilly', 'rockalternative', 'rockindie', 'rockother',\n",
       "       'romance', 'roots', 'ruspop', 'rusrap', 'rusrock', 'russian',\n",
       "       'salsa', 'samba', 'scenic', 'schlager', 'self', 'sertanejo',\n",
       "       'shanson', 'shoegazing', 'showtunes', 'singer', 'ska', 'skarock',\n",
       "       'slow', 'smooth', 'soft', 'soul', 'soulful', 'sound', 'soundtrack',\n",
       "       'southern', 'specialty', 'speech', 'spiritual', 'sport',\n",
       "       'stonerrock', 'surf', 'swing', 'synthpop', 'synthrock',\n",
       "       'sängerportrait', 'tango', 'tanzorchester', 'taraftar', 'tatar',\n",
       "       'tech', 'techno', 'teen', 'thrash', 'top', 'traditional',\n",
       "       'tradjazz', 'trance', 'tribal', 'trip', 'triphop', 'tropical',\n",
       "       'türk', 'türkçe', 'ukrrock', 'unknown', 'urban', 'uzbek',\n",
       "       'variété', 'vi', 'videogame', 'vocal', 'western', 'world',\n",
       "       'worldbeat', 'ïîï', 'электроника'], dtype=object)"
      ]
     },
     "execution_count": 17,
     "metadata": {},
     "output_type": "execute_result"
    }
   ],
   "source": [
    "df['genre'].sort_values().unique() # проверка на отсутствие неявных дубликатов"
   ]
  },
  {
   "cell_type": "markdown",
   "metadata": {
    "deletable": false,
    "editable": false,
    "id": "jz6a9-7HQUDd"
   },
   "source": [
    "**Выводы**\n",
    "\n",
    "Предобработка обнаружила три проблемы в данных:\n",
    "\n",
    "- нарушения в стиле заголовков,\n",
    "- пропущенные значения,\n",
    "- дубликаты — явные и неявные.\n",
    "\n",
    "Вы исправили заголовки, чтобы упростить работу с таблицей. Без дубликатов исследование станет более точным.\n",
    "\n",
    "Пропущенные значения вы заменили на `'unknown'`. Ещё предстоит увидеть, не повредят ли исследованию пропуски в колонке `genre`.\n",
    "\n",
    "Теперь можно перейти к проверке гипотез."
   ]
  },
  {
   "cell_type": "markdown",
   "metadata": {
    "deletable": false,
    "editable": false,
    "id": "WttZHXH0SqKk"
   },
   "source": [
    "## Проверка гипотез"
   ]
  },
  {
   "cell_type": "markdown",
   "metadata": {
    "deletable": false,
    "editable": false,
    "id": "Im936VVi_Zcu"
   },
   "source": [
    "### Сравнение поведения пользователей двух столиц"
   ]
  },
  {
   "cell_type": "markdown",
   "metadata": {
    "deletable": false,
    "editable": false,
    "id": "nwt_MuaL_Zcu"
   },
   "source": [
    "Первая гипотеза утверждает, что пользователи по-разному слушают музыку в Москве и Санкт-Петербурге. Проверим это предположение по данным о трёх днях недели — понедельнике, среде и пятнице. Для этого:\n",
    "\n",
    "* Разделим пользователей Москвы и Санкт-Петербурга.\n",
    "* Сравним, сколько треков послушала каждая группа пользователей в понедельник, среду и пятницу.\n"
   ]
  },
  {
   "cell_type": "markdown",
   "metadata": {
    "deletable": false,
    "id": "8Dw_YMmT_Zcu",
    "tags": [
     "start_task"
    ]
   },
   "source": [
    "**Задание 18**\n",
    "\n"
   ]
  },
  {
   "cell_type": "code",
   "execution_count": 18,
   "metadata": {
    "deletable": false,
    "id": "0_Qs96oh_Zcu"
   },
   "outputs": [
    {
     "name": "stdout",
     "output_type": "stream",
     "text": [
      "city\n",
      "Moscow              42741\n",
      "Saint-Petersburg    18512\n",
      "Name: genre, dtype: int64\n"
     ]
    }
   ],
   "source": [
    "play_city = df.groupby('city')['genre'].count()\n",
    "print(play_city)"
   ]
  },
  {
   "cell_type": "markdown",
   "metadata": {
    "id": "dzli3w8o_Zcu",
    "tags": [
     "start_task"
    ]
   },
   "source": [
    "**Задание 19**\n"
   ]
  },
  {
   "cell_type": "code",
   "execution_count": 19,
   "metadata": {
    "deletable": false,
    "id": "uZMKjiJz_Zcu"
   },
   "outputs": [
    {
     "name": "stdout",
     "output_type": "stream",
     "text": [
      "day\n",
      "Friday       21840\n",
      "Monday       21354\n",
      "Wednesday    18059\n",
      "Name: genre, dtype: int64\n"
     ]
    }
   ],
   "source": [
    "play_day = df.groupby('day')['genre'].count()\n",
    "print(play_day)\n",
    "# подсчёт прослушиваний в каждый из трёх дней"
   ]
  },
  {
   "cell_type": "markdown",
   "metadata": {
    "deletable": false,
    "editable": false,
    "id": "POzs8bGa_Zcu",
    "tags": [
     "start_task"
    ]
   },
   "source": [
    "**Задание 20**"
   ]
  },
  {
   "cell_type": "code",
   "execution_count": 20,
   "metadata": {
    "deletable": false,
    "id": "Nz3GdQB1_Zcu"
   },
   "outputs": [],
   "source": [
    "def number_tracks(day, city):\n",
    "    track_list = df[df['day'] == day] # выберите только строки df со значением переменной day в столбце day\n",
    "    track_list = track_list[track_list['city'] == city] # выберите только строки track_list со значением переменной city в столбце city\n",
    "    track_list_count = track_list['user_id'].count() # вызовите метод подсчета строк для track_list и выберите столбец user_id\n",
    "    return track_list_count # верните значение track_list_count из функции"
   ]
  },
  {
   "cell_type": "markdown",
   "metadata": {
    "deletable": false,
    "editable": false,
    "id": "ytf7xFrFJQ2r",
    "tags": [
     "start_task"
    ]
   },
   "source": [
    "**Задание 21**"
   ]
  },
  {
   "cell_type": "code",
   "execution_count": 21,
   "metadata": {
    "deletable": false,
    "id": "rJcRATNQ_Zcu"
   },
   "outputs": [],
   "source": [
    "mos_mon = number_tracks('Monday', 'Moscow') # количество прослушиваний в Москве по понедельникам"
   ]
  },
  {
   "cell_type": "code",
   "execution_count": 22,
   "metadata": {
    "deletable": false,
    "id": "hq_ncZ5T_Zcu"
   },
   "outputs": [],
   "source": [
    "spb_mon = number_tracks('Monday', 'Saint-Petersburg') # количество прослушиваний в Санкт-Петербурге по понедельникам"
   ]
  },
  {
   "cell_type": "code",
   "execution_count": 23,
   "metadata": {
    "deletable": false,
    "id": "_NTy2VPU_Zcu"
   },
   "outputs": [],
   "source": [
    "mos_wen = number_tracks('Wednesday', 'Moscow') # количество прослушиваний в Москве по средам"
   ]
  },
  {
   "cell_type": "code",
   "execution_count": 24,
   "metadata": {
    "deletable": false,
    "id": "j2y3TAwo_Zcu"
   },
   "outputs": [],
   "source": [
    "spb_wen = number_tracks('Wednesday', 'Saint-Petersburg') # количество прослушиваний в Санкт-Петербурге по средам"
   ]
  },
  {
   "cell_type": "code",
   "execution_count": 25,
   "metadata": {
    "deletable": false,
    "id": "vYDw5u_K_Zcu"
   },
   "outputs": [],
   "source": [
    "mos_fri = number_tracks('Friday', 'Moscow') # количество прослушиваний в Москве по пятницам"
   ]
  },
  {
   "cell_type": "code",
   "execution_count": 26,
   "metadata": {
    "deletable": false,
    "id": "8_yzFtW3_Zcu"
   },
   "outputs": [],
   "source": [
    "spb_fri = number_tracks('Friday', 'Saint-Petersburg') # количество прослушиваний в Санкт-Петербурге по пятницам"
   ]
  },
  {
   "cell_type": "markdown",
   "metadata": {
    "deletable": false,
    "editable": false,
    "id": "7QXffbO-_Zcu",
    "tags": [
     "start_task"
    ]
   },
   "source": [
    "**Задание 22**"
   ]
  },
  {
   "cell_type": "code",
   "execution_count": 27,
   "metadata": {
    "deletable": false,
    "id": "APAcLpOr_Zcu"
   },
   "outputs": [
    {
     "name": "stdout",
     "output_type": "stream",
     "text": [
      "               city  monday  wednesday  friday\n",
      "0            Moscow   15740      11056   15945\n",
      "1  Saint-Petersburg    5614       7003    5895\n"
     ]
    }
   ],
   "source": [
    "columns = ['city', 'monday', 'wednesday', 'friday']\n",
    "plays = [['Moscow', mos_mon, mos_wen, mos_fri], ['Saint-Petersburg', spb_mon, spb_wen, spb_fri]] # создание таблицы с результатами\n",
    "info = pd.DataFrame(columns = columns, data = plays) \n",
    "print(info) # вывод таблицы на экран"
   ]
  },
  {
   "cell_type": "markdown",
   "metadata": {
    "deletable": false,
    "editable": false,
    "id": "-EgPIHYu_Zcu"
   },
   "source": [
    "**Выводы**\n",
    "\n",
    "Данные показывают разницу поведения пользователей:\n",
    "\n",
    "- В Москве пик прослушиваний приходится на понедельник и пятницу, а в среду заметен спад.\n",
    "- В Петербурге, наоборот, больше слушают музыку по средам. Активность в понедельник и пятницу здесь почти в равной мере уступает среде.\n",
    "\n",
    "Значит, данные говорят в пользу первой гипотезы."
   ]
  },
  {
   "cell_type": "markdown",
   "metadata": {
    "deletable": false,
    "editable": false,
    "id": "atZAxtq4_Zcu"
   },
   "source": [
    "### Музыка в начале и в конце недели"
   ]
  },
  {
   "cell_type": "markdown",
   "metadata": {
    "deletable": false,
    "editable": false,
    "id": "eXrQqXFH_Zcu"
   },
   "source": [
    "Согласно второй гипотезе, утром в понедельник в Москве преобладают одни жанры, а в Петербурге — другие. Так же и вечером пятницы преобладают разные жанры — в зависимости от города."
   ]
  },
  {
   "cell_type": "markdown",
   "metadata": {
    "deletable": false,
    "editable": false,
    "id": "S8UcW6Hw_Zcu",
    "tags": [
     "start_task"
    ]
   },
   "source": [
    "**Задание 23**"
   ]
  },
  {
   "cell_type": "code",
   "execution_count": 28,
   "metadata": {
    "deletable": false,
    "id": "qeaFfM_P_Zcu"
   },
   "outputs": [],
   "source": [
    "# получение таблицы moscow_general из тех строк таблицы df, для которых значение в столбце 'city' равно 'Moscow'\n",
    "moscow_general = df[df['city'] == 'Moscow']\n"
   ]
  },
  {
   "cell_type": "code",
   "execution_count": 31,
   "metadata": {
    "deletable": false,
    "id": "ORaVRKto_Zcu"
   },
   "outputs": [],
   "source": [
    "# получение таблицы spb_general из тех строк таблицы df, для которых значение в столбце 'city' равно 'Saint-Petersburg'\n",
    "spb_general = df[df['city'] == 'Saint-Petersburg']"
   ]
  },
  {
   "cell_type": "markdown",
   "metadata": {
    "deletable": false,
    "editable": false,
    "id": "MEJV-CX2_Zcu",
    "tags": [
     "start_task"
    ]
   },
   "source": [
    "**Задание 24**"
   ]
  },
  {
   "cell_type": "code",
   "execution_count": 32,
   "metadata": {
    "deletable": false,
    "id": "laJT9BYl_Zcu"
   },
   "outputs": [],
   "source": [
    "def genre_weekday(df, day, time1, time2):\n",
    "    # последовательная фильтрация\n",
    "    # оставляем в genre_df только те строки df, у которых день равен day\n",
    "    genre_df = df[df['day'] == day] # ваш код здесь\n",
    "    # оставляем в genre_df только те строки genre_df, у которых время меньше time2\n",
    "    genre_df = genre_df[genre_df['time'] < time2] # ваш код здесь\n",
    "    # оставляем в genre_df только те строки genre_df, у которых время больше time1\n",
    "    genre_df = genre_df[genre_df['time'] > time1] # ваш код здесь\n",
    "    # сгруппируем отфильтрованный датафрейм по столбцу с названиями жанров, возьмём столбец genre и посчитаем кол-во строк для каждого жанра методом count()\n",
    "    genre_df_grouped = genre_df.groupby('genre')['genre'].count()# ваш код здесь\n",
    "    # отсортируем результат по убыванию (чтобы в начале Series оказались самые популярные жанры)\n",
    "    genre_df_sorted = genre_df_grouped.sort_values(ascending = False) # ваш код здесь\n",
    "    # вернём Series с 10 самыми популярными жанрами в указанный отрезок времени заданного дня\n",
    "    return genre_df_sorted[:10]"
   ]
  },
  {
   "cell_type": "markdown",
   "metadata": {
    "deletable": false,
    "editable": false,
    "id": "la2s2_PF_Zcu",
    "tags": [
     "start_task"
    ]
   },
   "source": [
    "**Задание 25**"
   ]
  },
  {
   "cell_type": "code",
   "execution_count": null,
   "metadata": {
    "deletable": false,
    "id": "yz7itPUQ_Zcu"
   },
   "outputs": [],
   "source": [
    "genre_weekday(moscow_general, 'Monday', '07:00', '11:00') # вызов функции для утра понедельника в Москве (вместо df — таблица moscow_general)"
   ]
  },
  {
   "cell_type": "code",
   "execution_count": null,
   "metadata": {
    "deletable": false,
    "id": "kwUcHPdy_Zcu"
   },
   "outputs": [],
   "source": [
    "genre_weekday(spb_general, 'Monday', '07:00', '11:00') # вызов функции для утра понедельника в Петербурге (вместо df — таблица spb_general)"
   ]
  },
  {
   "cell_type": "code",
   "execution_count": null,
   "metadata": {
    "deletable": false,
    "id": "EzXVRE1o_Zcu"
   },
   "outputs": [],
   "source": [
    "genre_weekday(moscow_general, 'Friday', '17:00', '23:00') # вызов функции для вечера пятницы в Москве"
   ]
  },
  {
   "cell_type": "code",
   "execution_count": null,
   "metadata": {
    "deletable": false,
    "id": "JZaEKu5v_Zcu"
   },
   "outputs": [],
   "source": [
    "genre_weekday(spb_general, 'Friday', '17:00', '23:00') # вызов функции для вечера пятницы в Петербурге"
   ]
  },
  {
   "cell_type": "markdown",
   "metadata": {
    "deletable": false,
    "editable": false,
    "id": "wrCe4MNX_Zcu"
   },
   "source": [
    "**Выводы**\n",
    "\n",
    "Если сравнить топ-10 жанров в понедельник утром, можно сделать такие выводы:\n",
    "\n",
    "1. В Москве и Петербурге слушают похожую музыку. Единственное различие — в московский рейтинг вошёл жанр “world”, а в петербургский — джаз и классика.\n",
    "\n",
    "2. В Москве пропущенных значений оказалось так много, что значение `'unknown'` заняло десятое место среди самых популярных жанров. Значит, пропущенные значения занимают существенную долю в данных и угрожают достоверности исследования.\n",
    "\n",
    "Вечер пятницы не меняет эту картину. Некоторые жанры поднимаются немного выше, другие спускаются, но в целом топ-10 остаётся тем же самым.\n",
    "\n",
    "Таким образом, вторая гипотеза подтвердилась лишь частично:\n",
    "* Пользователи слушают похожую музыку в начале недели и в конце.\n",
    "* Разница между Москвой и Петербургом не слишком выражена. В Москве чаще слушают русскую популярную музыку, в Петербурге — джаз.\n",
    "\n",
    "Однако пропуски в данных ставят под сомнение этот результат. В Москве их так много, что рейтинг топ-10 мог бы выглядеть иначе, если бы не утерянные  данные о жанрах."
   ]
  },
  {
   "cell_type": "markdown",
   "metadata": {
    "deletable": false,
    "editable": false,
    "id": "JolODAqr_Zcu"
   },
   "source": [
    "### Жанровые предпочтения в Москве и Петербурге\n",
    "\n",
    "Гипотеза: Петербург — столица рэпа, музыку этого жанра там слушают чаще, чем в Москве.  А Москва — город контрастов, в котором, тем не менее, преобладает поп-музыка."
   ]
  },
  {
   "cell_type": "markdown",
   "metadata": {
    "deletable": false,
    "editable": false,
    "id": "DlegSvaT_Zcu",
    "tags": [
     "start_task"
    ]
   },
   "source": [
    "**Задание 26**"
   ]
  },
  {
   "cell_type": "code",
   "execution_count": null,
   "metadata": {
    "deletable": false,
    "id": "r19lIPke_Zcu"
   },
   "outputs": [],
   "source": [
    "moscow_genres = moscow_general.groupby('genre')['genre'].count() # одной строкой: группировка таблицы moscow_general по столбцу 'genre', выбор столбца `genre`, подсчёт числа значений 'genre' методом count(), сохранение в moscow_genres\n",
    "moscow_genres = moscow_genres.sort_values(ascending=False) # сортировка получившегося Series в порядке убывания и сохранение обратно в moscow_genres"
   ]
  },
  {
   "cell_type": "markdown",
   "metadata": {
    "deletable": false,
    "editable": false,
    "id": "6kMuomxTiIr8",
    "tags": [
     "start_task"
    ]
   },
   "source": [
    "**Задание 27**"
   ]
  },
  {
   "cell_type": "code",
   "execution_count": null,
   "metadata": {
    "deletable": false,
    "id": "WhCSooF8_Zcv"
   },
   "outputs": [],
   "source": [
    "moscow_genres.head(10) # просмотр первых 10 строк moscow_genres"
   ]
  },
  {
   "cell_type": "markdown",
   "metadata": {
    "deletable": false,
    "editable": false,
    "id": "cnPG2vnN_Zcv",
    "tags": [
     "start_task"
    ]
   },
   "source": [
    "**Задание 28**"
   ]
  },
  {
   "cell_type": "code",
   "execution_count": null,
   "metadata": {
    "deletable": false,
    "id": "gluLIpE7_Zcv"
   },
   "outputs": [],
   "source": [
    "spb_genres = spb_general.groupby('genre')['genre'].count() # одной строкой: группировка таблицы spb_general по столбцу 'genre', выбор столбца `genre`, подсчёт числа значений 'genre' методом count(), сохранение в spb_genres\n",
    "spb_genres = spb_genres.sort_values(ascending=False) # сортировка получившегося Series в порядке убывания и сохранение обратно в spb_genres"
   ]
  },
  {
   "cell_type": "markdown",
   "metadata": {
    "deletable": false,
    "editable": false,
    "id": "5Doha_ODgyQ8",
    "tags": [
     "start_task"
    ]
   },
   "source": [
    "**Задание 29**"
   ]
  },
  {
   "cell_type": "code",
   "execution_count": null,
   "metadata": {
    "deletable": false,
    "id": "uaGJHjVU_Zcv"
   },
   "outputs": [],
   "source": [
    "spb_genres.head(10) # просмотр первых 10 строк spb_genres"
   ]
  },
  {
   "cell_type": "markdown",
   "metadata": {
    "deletable": false,
    "editable": false,
    "id": "RY51YJYu_Zcv"
   },
   "source": [
    "**Выводы**"
   ]
  },
  {
   "cell_type": "markdown",
   "metadata": {
    "deletable": false,
    "editable": false,
    "id": "nVhnJEm__Zcv"
   },
   "source": [
    "Гипотеза частично подтвердилась:\n",
    "* Поп-музыка — самый популярный жанр в Москве, как и предполагала гипотеза. Более того, в топ-10 жанров встречается близкий жанр — русская популярная музыка.\n",
    "* Вопреки ожиданиям, рэп одинаково популярен в Москве и Петербурге.\n"
   ]
  },
  {
   "cell_type": "markdown",
   "metadata": {
    "deletable": false,
    "editable": false,
    "id": "ykKQ0N65_Zcv"
   },
   "source": [
    "## Итоги исследования"
   ]
  },
  {
   "cell_type": "markdown",
   "metadata": {
    "deletable": false,
    "editable": false,
    "id": "tjUwbHb3_Zcv"
   },
   "source": [
    "Вы проверили три гипотезы и установили:\n",
    "\n",
    "1. День недели по-разному влияет на активность пользователей в Москве и Петербурге.\n",
    "\n",
    "Первая гипотеза полностью подтвердилась.\n",
    "\n",
    "2. Музыкальные предпочтения не сильно меняются в течение недели — будь то Москва или Петербург. Небольшие различия заметны в начале недели, по понедельникам:\n",
    "* в Москве слушают музыку жанра “world”,\n",
    "* в Петербурге — джаз и классику.\n",
    "\n",
    "Таким образом, вторая гипотеза подтвердилась лишь отчасти. Этот результат мог оказаться иным, если бы не пропуски в данных.\n",
    "\n",
    "3. Во вкусах пользователей Москвы и Петербурга больше общего, чем различий. Вопреки ожиданиям, предпочтения жанров в Петербурге напоминают московские.\n",
    "\n",
    "Третья гипотеза не подтвердилась. Если различия в предпочтениях и существуют, на основной массе пользователей они незаметны.\n",
    "\n",
    "**На практике исследования содержат проверки статистических гипотез.**\n",
    "Из части данных одного сервиса невозможно сделать какие-то выводы о всех пользователях сервиса без методов статистики.\n",
    "Проверки статистических гипотез покажут, насколько они достоверны, исходя из имеющихся данных.\n",
    "С методами проверок гипотез вы ещё познакомитесь в следующих темах."
   ]
  }
 ],
 "metadata": {
  "ExecuteTimeLog": [
   {
    "duration": 44,
    "start_time": "2024-01-22T18:59:50.461Z"
   },
   {
    "duration": 344,
    "start_time": "2024-01-22T19:00:05.768Z"
   },
   {
    "duration": 164,
    "start_time": "2024-01-22T19:00:08.856Z"
   },
   {
    "duration": 15,
    "start_time": "2024-01-22T19:00:12.665Z"
   },
   {
    "duration": 31,
    "start_time": "2024-01-22T19:00:25.306Z"
   },
   {
    "duration": 4,
    "start_time": "2024-01-22T19:11:15.651Z"
   },
   {
    "duration": 365,
    "start_time": "2024-01-22T19:13:14.379Z"
   },
   {
    "duration": 166,
    "start_time": "2024-01-22T19:13:14.746Z"
   },
   {
    "duration": 21,
    "start_time": "2024-01-22T19:13:14.914Z"
   },
   {
    "duration": 41,
    "start_time": "2024-01-22T19:13:14.937Z"
   },
   {
    "duration": 3,
    "start_time": "2024-01-22T19:13:14.981Z"
   },
   {
    "duration": 5,
    "start_time": "2024-01-22T19:13:14.985Z"
   },
   {
    "duration": 35,
    "start_time": "2024-01-22T19:13:14.992Z"
   },
   {
    "duration": 12,
    "start_time": "2024-01-22T19:13:15.028Z"
   },
   {
    "duration": 50,
    "start_time": "2024-01-22T19:13:15.042Z"
   },
   {
    "duration": 27,
    "start_time": "2024-01-22T19:13:15.094Z"
   },
   {
    "duration": 4,
    "start_time": "2024-01-22T19:13:15.123Z"
   },
   {
    "duration": 13,
    "start_time": "2024-01-22T19:13:15.128Z"
   },
   {
    "duration": 4,
    "start_time": "2024-01-22T19:13:15.142Z"
   },
   {
    "duration": 2,
    "start_time": "2024-01-22T19:13:15.149Z"
   },
   {
    "duration": 6,
    "start_time": "2024-01-22T19:13:15.153Z"
   },
   {
    "duration": 15,
    "start_time": "2024-01-22T19:13:15.160Z"
   },
   {
    "duration": 7,
    "start_time": "2024-01-22T19:13:15.176Z"
   },
   {
    "duration": 21,
    "start_time": "2024-01-22T19:13:15.184Z"
   },
   {
    "duration": 8,
    "start_time": "2024-01-22T19:13:15.207Z"
   },
   {
    "duration": 106,
    "start_time": "2024-01-22T19:13:15.216Z"
   },
   {
    "duration": 0,
    "start_time": "2024-01-22T19:13:15.323Z"
   },
   {
    "duration": 0,
    "start_time": "2024-01-22T19:13:15.324Z"
   },
   {
    "duration": 0,
    "start_time": "2024-01-22T19:13:15.325Z"
   },
   {
    "duration": 0,
    "start_time": "2024-01-22T19:13:15.326Z"
   },
   {
    "duration": 0,
    "start_time": "2024-01-22T19:13:15.327Z"
   },
   {
    "duration": 0,
    "start_time": "2024-01-22T19:13:15.328Z"
   },
   {
    "duration": 0,
    "start_time": "2024-01-22T19:13:15.329Z"
   },
   {
    "duration": 0,
    "start_time": "2024-01-22T19:13:15.331Z"
   },
   {
    "duration": 0,
    "start_time": "2024-01-22T19:13:15.331Z"
   },
   {
    "duration": 0,
    "start_time": "2024-01-22T19:13:15.332Z"
   },
   {
    "duration": 0,
    "start_time": "2024-01-22T19:13:15.334Z"
   },
   {
    "duration": 0,
    "start_time": "2024-01-22T19:13:15.335Z"
   },
   {
    "duration": 0,
    "start_time": "2024-01-22T19:13:15.335Z"
   },
   {
    "duration": 0,
    "start_time": "2024-01-22T19:13:15.336Z"
   },
   {
    "duration": 0,
    "start_time": "2024-01-22T19:13:15.337Z"
   },
   {
    "duration": 0,
    "start_time": "2024-01-22T19:13:15.338Z"
   },
   {
    "duration": 0,
    "start_time": "2024-01-22T19:13:15.339Z"
   },
   {
    "duration": 0,
    "start_time": "2024-01-22T19:13:15.340Z"
   },
   {
    "duration": 352,
    "start_time": "2024-01-22T19:22:42.865Z"
   },
   {
    "duration": 171,
    "start_time": "2024-01-22T19:22:43.220Z"
   },
   {
    "duration": 16,
    "start_time": "2024-01-22T19:22:43.392Z"
   },
   {
    "duration": 34,
    "start_time": "2024-01-22T19:22:43.409Z"
   },
   {
    "duration": 4,
    "start_time": "2024-01-22T19:22:43.444Z"
   },
   {
    "duration": 7,
    "start_time": "2024-01-22T19:22:43.449Z"
   },
   {
    "duration": 11,
    "start_time": "2024-01-22T19:22:43.457Z"
   },
   {
    "duration": 7,
    "start_time": "2024-01-22T19:22:43.470Z"
   },
   {
    "duration": 48,
    "start_time": "2024-01-22T19:22:43.478Z"
   },
   {
    "duration": 20,
    "start_time": "2024-01-22T19:22:43.528Z"
   },
   {
    "duration": 25,
    "start_time": "2024-01-22T19:22:43.549Z"
   },
   {
    "duration": 2,
    "start_time": "2024-01-22T19:22:43.576Z"
   },
   {
    "duration": 9,
    "start_time": "2024-01-22T19:22:43.579Z"
   },
   {
    "duration": 3,
    "start_time": "2024-01-22T19:22:43.592Z"
   },
   {
    "duration": 23,
    "start_time": "2024-01-22T19:22:43.597Z"
   },
   {
    "duration": 20,
    "start_time": "2024-01-22T19:22:43.622Z"
   },
   {
    "duration": 3,
    "start_time": "2024-01-22T19:22:43.644Z"
   },
   {
    "duration": 6,
    "start_time": "2024-01-22T19:22:43.648Z"
   },
   {
    "duration": 22,
    "start_time": "2024-01-22T19:22:43.656Z"
   },
   {
    "duration": 72,
    "start_time": "2024-01-22T19:22:43.680Z"
   },
   {
    "duration": 0,
    "start_time": "2024-01-22T19:22:43.754Z"
   },
   {
    "duration": 0,
    "start_time": "2024-01-22T19:22:43.756Z"
   },
   {
    "duration": 0,
    "start_time": "2024-01-22T19:22:43.758Z"
   },
   {
    "duration": 0,
    "start_time": "2024-01-22T19:22:43.759Z"
   },
   {
    "duration": 0,
    "start_time": "2024-01-22T19:22:43.760Z"
   },
   {
    "duration": 0,
    "start_time": "2024-01-22T19:22:43.762Z"
   },
   {
    "duration": 0,
    "start_time": "2024-01-22T19:22:43.763Z"
   },
   {
    "duration": 0,
    "start_time": "2024-01-22T19:22:43.764Z"
   },
   {
    "duration": 0,
    "start_time": "2024-01-22T19:22:43.765Z"
   },
   {
    "duration": 0,
    "start_time": "2024-01-22T19:22:43.766Z"
   },
   {
    "duration": 0,
    "start_time": "2024-01-22T19:22:43.767Z"
   },
   {
    "duration": 0,
    "start_time": "2024-01-22T19:22:43.768Z"
   },
   {
    "duration": 0,
    "start_time": "2024-01-22T19:22:43.768Z"
   },
   {
    "duration": 0,
    "start_time": "2024-01-22T19:22:43.769Z"
   },
   {
    "duration": 0,
    "start_time": "2024-01-22T19:22:43.770Z"
   },
   {
    "duration": 0,
    "start_time": "2024-01-22T19:22:43.771Z"
   },
   {
    "duration": 0,
    "start_time": "2024-01-22T19:22:43.772Z"
   },
   {
    "duration": 0,
    "start_time": "2024-01-22T19:22:43.773Z"
   },
   {
    "duration": 371,
    "start_time": "2024-01-22T19:23:44.258Z"
   },
   {
    "duration": 166,
    "start_time": "2024-01-22T19:23:44.630Z"
   },
   {
    "duration": 21,
    "start_time": "2024-01-22T19:23:44.797Z"
   },
   {
    "duration": 29,
    "start_time": "2024-01-22T19:23:44.820Z"
   },
   {
    "duration": 2,
    "start_time": "2024-01-22T19:23:44.851Z"
   },
   {
    "duration": 5,
    "start_time": "2024-01-22T19:23:44.855Z"
   },
   {
    "duration": 12,
    "start_time": "2024-01-22T19:23:44.862Z"
   },
   {
    "duration": 4,
    "start_time": "2024-01-22T19:23:44.876Z"
   },
   {
    "duration": 55,
    "start_time": "2024-01-22T19:23:44.882Z"
   },
   {
    "duration": 20,
    "start_time": "2024-01-22T19:23:44.938Z"
   },
   {
    "duration": 27,
    "start_time": "2024-01-22T19:23:44.959Z"
   },
   {
    "duration": 90,
    "start_time": "2024-01-22T19:23:44.987Z"
   },
   {
    "duration": 3,
    "start_time": "2024-01-22T19:23:45.078Z"
   },
   {
    "duration": 10,
    "start_time": "2024-01-22T19:23:45.084Z"
   },
   {
    "duration": 22,
    "start_time": "2024-01-22T19:23:45.096Z"
   },
   {
    "duration": 27,
    "start_time": "2024-01-22T19:23:45.120Z"
   },
   {
    "duration": 20,
    "start_time": "2024-01-22T19:23:45.148Z"
   },
   {
    "duration": 32,
    "start_time": "2024-01-22T19:23:45.170Z"
   },
   {
    "duration": 11,
    "start_time": "2024-01-22T19:23:45.204Z"
   },
   {
    "duration": 81,
    "start_time": "2024-01-22T19:23:45.216Z"
   },
   {
    "duration": 0,
    "start_time": "2024-01-22T19:23:45.298Z"
   },
   {
    "duration": 1,
    "start_time": "2024-01-22T19:23:45.299Z"
   },
   {
    "duration": 0,
    "start_time": "2024-01-22T19:23:45.301Z"
   },
   {
    "duration": 0,
    "start_time": "2024-01-22T19:23:45.301Z"
   },
   {
    "duration": 0,
    "start_time": "2024-01-22T19:23:45.303Z"
   },
   {
    "duration": 0,
    "start_time": "2024-01-22T19:23:45.304Z"
   },
   {
    "duration": 0,
    "start_time": "2024-01-22T19:23:45.305Z"
   },
   {
    "duration": 0,
    "start_time": "2024-01-22T19:23:45.306Z"
   },
   {
    "duration": 0,
    "start_time": "2024-01-22T19:23:45.308Z"
   },
   {
    "duration": 0,
    "start_time": "2024-01-22T19:23:45.309Z"
   },
   {
    "duration": 1,
    "start_time": "2024-01-22T19:23:45.310Z"
   },
   {
    "duration": 0,
    "start_time": "2024-01-22T19:23:45.312Z"
   },
   {
    "duration": 0,
    "start_time": "2024-01-22T19:23:45.313Z"
   },
   {
    "duration": 0,
    "start_time": "2024-01-22T19:23:45.315Z"
   },
   {
    "duration": 0,
    "start_time": "2024-01-22T19:23:45.317Z"
   },
   {
    "duration": 0,
    "start_time": "2024-01-22T19:23:45.318Z"
   },
   {
    "duration": 0,
    "start_time": "2024-01-22T19:23:45.319Z"
   },
   {
    "duration": 0,
    "start_time": "2024-01-22T19:23:45.321Z"
   },
   {
    "duration": 386,
    "start_time": "2024-01-22T19:32:31.632Z"
   },
   {
    "duration": 179,
    "start_time": "2024-01-22T19:32:32.020Z"
   },
   {
    "duration": 29,
    "start_time": "2024-01-22T19:32:32.201Z"
   },
   {
    "duration": 34,
    "start_time": "2024-01-22T19:32:32.232Z"
   },
   {
    "duration": 2,
    "start_time": "2024-01-22T19:32:32.268Z"
   },
   {
    "duration": 6,
    "start_time": "2024-01-22T19:32:32.271Z"
   },
   {
    "duration": 11,
    "start_time": "2024-01-22T19:32:32.278Z"
   },
   {
    "duration": 28,
    "start_time": "2024-01-22T19:32:32.290Z"
   },
   {
    "duration": 26,
    "start_time": "2024-01-22T19:32:32.319Z"
   },
   {
    "duration": 28,
    "start_time": "2024-01-22T19:32:32.347Z"
   },
   {
    "duration": 27,
    "start_time": "2024-01-22T19:32:32.376Z"
   },
   {
    "duration": 77,
    "start_time": "2024-01-22T19:32:32.404Z"
   },
   {
    "duration": 80,
    "start_time": "2024-01-22T19:32:32.483Z"
   },
   {
    "duration": 66,
    "start_time": "2024-01-22T19:32:32.564Z"
   },
   {
    "duration": 42,
    "start_time": "2024-01-22T19:32:32.631Z"
   },
   {
    "duration": 2,
    "start_time": "2024-01-22T19:32:32.675Z"
   },
   {
    "duration": 3,
    "start_time": "2024-01-22T19:32:32.678Z"
   },
   {
    "duration": 3,
    "start_time": "2024-01-22T19:32:32.683Z"
   },
   {
    "duration": 4,
    "start_time": "2024-01-22T19:32:32.687Z"
   },
   {
    "duration": 72,
    "start_time": "2024-01-22T19:32:32.692Z"
   },
   {
    "duration": 0,
    "start_time": "2024-01-22T19:32:32.766Z"
   },
   {
    "duration": 0,
    "start_time": "2024-01-22T19:32:32.767Z"
   },
   {
    "duration": 0,
    "start_time": "2024-01-22T19:32:32.768Z"
   },
   {
    "duration": 0,
    "start_time": "2024-01-22T19:32:32.769Z"
   },
   {
    "duration": 0,
    "start_time": "2024-01-22T19:32:32.771Z"
   },
   {
    "duration": 0,
    "start_time": "2024-01-22T19:32:32.771Z"
   },
   {
    "duration": 0,
    "start_time": "2024-01-22T19:32:32.772Z"
   },
   {
    "duration": 0,
    "start_time": "2024-01-22T19:32:32.774Z"
   },
   {
    "duration": 0,
    "start_time": "2024-01-22T19:32:32.774Z"
   },
   {
    "duration": 0,
    "start_time": "2024-01-22T19:32:32.775Z"
   },
   {
    "duration": 0,
    "start_time": "2024-01-22T19:32:32.776Z"
   },
   {
    "duration": 0,
    "start_time": "2024-01-22T19:32:32.777Z"
   },
   {
    "duration": 0,
    "start_time": "2024-01-22T19:32:32.778Z"
   },
   {
    "duration": 0,
    "start_time": "2024-01-22T19:32:32.779Z"
   },
   {
    "duration": 0,
    "start_time": "2024-01-22T19:32:32.779Z"
   },
   {
    "duration": 0,
    "start_time": "2024-01-22T19:32:32.780Z"
   },
   {
    "duration": 0,
    "start_time": "2024-01-22T19:32:32.781Z"
   },
   {
    "duration": 0,
    "start_time": "2024-01-22T19:32:32.782Z"
   },
   {
    "duration": 367,
    "start_time": "2024-01-22T19:35:57.560Z"
   },
   {
    "duration": 175,
    "start_time": "2024-01-22T19:35:57.930Z"
   },
   {
    "duration": 16,
    "start_time": "2024-01-22T19:35:58.106Z"
   },
   {
    "duration": 39,
    "start_time": "2024-01-22T19:35:58.124Z"
   },
   {
    "duration": 3,
    "start_time": "2024-01-22T19:35:58.165Z"
   },
   {
    "duration": 13,
    "start_time": "2024-01-22T19:35:58.169Z"
   },
   {
    "duration": 17,
    "start_time": "2024-01-22T19:35:58.184Z"
   },
   {
    "duration": 11,
    "start_time": "2024-01-22T19:35:58.202Z"
   },
   {
    "duration": 52,
    "start_time": "2024-01-22T19:35:58.215Z"
   },
   {
    "duration": 19,
    "start_time": "2024-01-22T19:35:58.270Z"
   },
   {
    "duration": 31,
    "start_time": "2024-01-22T19:35:58.290Z"
   },
   {
    "duration": 79,
    "start_time": "2024-01-22T19:35:58.323Z"
   },
   {
    "duration": 83,
    "start_time": "2024-01-22T19:35:58.403Z"
   },
   {
    "duration": 73,
    "start_time": "2024-01-22T19:35:58.487Z"
   },
   {
    "duration": 44,
    "start_time": "2024-01-22T19:35:58.562Z"
   },
   {
    "duration": 18,
    "start_time": "2024-01-22T19:35:58.608Z"
   },
   {
    "duration": 43,
    "start_time": "2024-01-22T19:35:58.627Z"
   },
   {
    "duration": 3,
    "start_time": "2024-01-22T19:35:58.671Z"
   },
   {
    "duration": 18,
    "start_time": "2024-01-22T19:35:58.675Z"
   },
   {
    "duration": 78,
    "start_time": "2024-01-22T19:35:58.695Z"
   },
   {
    "duration": 0,
    "start_time": "2024-01-22T19:35:58.774Z"
   },
   {
    "duration": 0,
    "start_time": "2024-01-22T19:35:58.775Z"
   },
   {
    "duration": 0,
    "start_time": "2024-01-22T19:35:58.776Z"
   },
   {
    "duration": 0,
    "start_time": "2024-01-22T19:35:58.777Z"
   },
   {
    "duration": 0,
    "start_time": "2024-01-22T19:35:58.777Z"
   },
   {
    "duration": 0,
    "start_time": "2024-01-22T19:35:58.778Z"
   },
   {
    "duration": 0,
    "start_time": "2024-01-22T19:35:58.779Z"
   },
   {
    "duration": 0,
    "start_time": "2024-01-22T19:35:58.781Z"
   },
   {
    "duration": 0,
    "start_time": "2024-01-22T19:35:58.782Z"
   },
   {
    "duration": 0,
    "start_time": "2024-01-22T19:35:58.783Z"
   },
   {
    "duration": 0,
    "start_time": "2024-01-22T19:35:58.784Z"
   },
   {
    "duration": 0,
    "start_time": "2024-01-22T19:35:58.785Z"
   },
   {
    "duration": 0,
    "start_time": "2024-01-22T19:35:58.786Z"
   },
   {
    "duration": 0,
    "start_time": "2024-01-22T19:35:58.787Z"
   },
   {
    "duration": 0,
    "start_time": "2024-01-22T19:35:58.788Z"
   },
   {
    "duration": 0,
    "start_time": "2024-01-22T19:35:58.789Z"
   },
   {
    "duration": 0,
    "start_time": "2024-01-22T19:35:58.790Z"
   },
   {
    "duration": 0,
    "start_time": "2024-01-22T19:35:58.791Z"
   },
   {
    "duration": 444,
    "start_time": "2024-01-23T13:17:37.178Z"
   },
   {
    "duration": 450,
    "start_time": "2024-01-23T13:17:37.624Z"
   },
   {
    "duration": 16,
    "start_time": "2024-01-23T13:17:38.075Z"
   },
   {
    "duration": 74,
    "start_time": "2024-01-23T13:17:38.093Z"
   },
   {
    "duration": 30,
    "start_time": "2024-01-23T13:17:38.168Z"
   },
   {
    "duration": 38,
    "start_time": "2024-01-23T13:17:38.200Z"
   },
   {
    "duration": 19,
    "start_time": "2024-01-23T13:17:38.239Z"
   },
   {
    "duration": 34,
    "start_time": "2024-01-23T13:17:38.260Z"
   },
   {
    "duration": 40,
    "start_time": "2024-01-23T13:17:38.295Z"
   },
   {
    "duration": 45,
    "start_time": "2024-01-23T13:17:38.337Z"
   },
   {
    "duration": 39,
    "start_time": "2024-01-23T13:17:38.383Z"
   },
   {
    "duration": 90,
    "start_time": "2024-01-23T13:17:38.424Z"
   },
   {
    "duration": 89,
    "start_time": "2024-01-23T13:17:38.515Z"
   },
   {
    "duration": 77,
    "start_time": "2024-01-23T13:17:38.605Z"
   },
   {
    "duration": 84,
    "start_time": "2024-01-23T13:17:38.684Z"
   },
   {
    "duration": 32,
    "start_time": "2024-01-23T13:17:38.770Z"
   },
   {
    "duration": 98,
    "start_time": "2024-01-23T13:17:38.804Z"
   },
   {
    "duration": 2,
    "start_time": "2024-01-23T13:17:38.904Z"
   },
   {
    "duration": 31,
    "start_time": "2024-01-23T13:17:38.908Z"
   },
   {
    "duration": 51,
    "start_time": "2024-01-23T13:17:38.940Z"
   },
   {
    "duration": 0,
    "start_time": "2024-01-23T13:17:38.993Z"
   },
   {
    "duration": 0,
    "start_time": "2024-01-23T13:17:38.994Z"
   },
   {
    "duration": 0,
    "start_time": "2024-01-23T13:17:38.996Z"
   },
   {
    "duration": 0,
    "start_time": "2024-01-23T13:17:38.997Z"
   },
   {
    "duration": 0,
    "start_time": "2024-01-23T13:17:39.005Z"
   },
   {
    "duration": 0,
    "start_time": "2024-01-23T13:17:39.007Z"
   },
   {
    "duration": 0,
    "start_time": "2024-01-23T13:17:39.008Z"
   },
   {
    "duration": 0,
    "start_time": "2024-01-23T13:17:39.009Z"
   },
   {
    "duration": 0,
    "start_time": "2024-01-23T13:17:39.010Z"
   },
   {
    "duration": 0,
    "start_time": "2024-01-23T13:17:39.012Z"
   },
   {
    "duration": 0,
    "start_time": "2024-01-23T13:17:39.013Z"
   },
   {
    "duration": 0,
    "start_time": "2024-01-23T13:17:39.015Z"
   },
   {
    "duration": 0,
    "start_time": "2024-01-23T13:17:39.016Z"
   },
   {
    "duration": 0,
    "start_time": "2024-01-23T13:17:39.018Z"
   },
   {
    "duration": 0,
    "start_time": "2024-01-23T13:17:39.020Z"
   },
   {
    "duration": 0,
    "start_time": "2024-01-23T13:17:39.021Z"
   },
   {
    "duration": 0,
    "start_time": "2024-01-23T13:17:39.022Z"
   },
   {
    "duration": 0,
    "start_time": "2024-01-23T13:17:39.024Z"
   },
   {
    "duration": 64,
    "start_time": "2024-01-23T13:25:10.397Z"
   },
   {
    "duration": 367,
    "start_time": "2024-01-23T13:25:27.051Z"
   },
   {
    "duration": 185,
    "start_time": "2024-01-23T13:25:27.420Z"
   },
   {
    "duration": 17,
    "start_time": "2024-01-23T13:25:27.607Z"
   },
   {
    "duration": 104,
    "start_time": "2024-01-23T13:25:27.625Z"
   },
   {
    "duration": 29,
    "start_time": "2024-01-23T13:25:27.731Z"
   },
   {
    "duration": 73,
    "start_time": "2024-01-23T13:25:27.762Z"
   },
   {
    "duration": 18,
    "start_time": "2024-01-23T13:25:27.837Z"
   },
   {
    "duration": 21,
    "start_time": "2024-01-23T13:25:27.857Z"
   },
   {
    "duration": 49,
    "start_time": "2024-01-23T13:25:27.880Z"
   },
   {
    "duration": 39,
    "start_time": "2024-01-23T13:25:27.930Z"
   },
   {
    "duration": 52,
    "start_time": "2024-01-23T13:25:27.970Z"
   },
   {
    "duration": 102,
    "start_time": "2024-01-23T13:25:28.023Z"
   },
   {
    "duration": 80,
    "start_time": "2024-01-23T13:25:28.126Z"
   },
   {
    "duration": 60,
    "start_time": "2024-01-23T13:25:28.210Z"
   },
   {
    "duration": 57,
    "start_time": "2024-01-23T13:25:28.272Z"
   },
   {
    "duration": 11,
    "start_time": "2024-01-23T13:25:28.331Z"
   },
   {
    "duration": 74,
    "start_time": "2024-01-23T13:25:28.343Z"
   },
   {
    "duration": 72,
    "start_time": "2024-01-23T13:25:28.419Z"
   },
   {
    "duration": 0,
    "start_time": "2024-01-23T13:25:28.492Z"
   },
   {
    "duration": 0,
    "start_time": "2024-01-23T13:25:28.493Z"
   },
   {
    "duration": 0,
    "start_time": "2024-01-23T13:25:28.494Z"
   },
   {
    "duration": 0,
    "start_time": "2024-01-23T13:25:28.495Z"
   },
   {
    "duration": 0,
    "start_time": "2024-01-23T13:25:28.496Z"
   },
   {
    "duration": 0,
    "start_time": "2024-01-23T13:25:28.498Z"
   },
   {
    "duration": 0,
    "start_time": "2024-01-23T13:25:28.498Z"
   },
   {
    "duration": 0,
    "start_time": "2024-01-23T13:25:28.500Z"
   },
   {
    "duration": 0,
    "start_time": "2024-01-23T13:25:28.500Z"
   },
   {
    "duration": 0,
    "start_time": "2024-01-23T13:25:28.501Z"
   },
   {
    "duration": 0,
    "start_time": "2024-01-23T13:25:28.502Z"
   },
   {
    "duration": 0,
    "start_time": "2024-01-23T13:25:28.503Z"
   },
   {
    "duration": 0,
    "start_time": "2024-01-23T13:25:28.505Z"
   },
   {
    "duration": 0,
    "start_time": "2024-01-23T13:25:28.505Z"
   },
   {
    "duration": 0,
    "start_time": "2024-01-23T13:25:28.506Z"
   },
   {
    "duration": 0,
    "start_time": "2024-01-23T13:25:28.507Z"
   },
   {
    "duration": 0,
    "start_time": "2024-01-23T13:25:28.508Z"
   },
   {
    "duration": 0,
    "start_time": "2024-01-23T13:25:28.510Z"
   },
   {
    "duration": 0,
    "start_time": "2024-01-23T13:25:28.511Z"
   },
   {
    "duration": 0,
    "start_time": "2024-01-23T13:25:28.512Z"
   },
   {
    "duration": 34,
    "start_time": "2024-01-23T13:26:10.166Z"
   },
   {
    "duration": 29,
    "start_time": "2024-01-23T13:26:15.801Z"
   },
   {
    "duration": 368,
    "start_time": "2024-01-23T13:26:30.030Z"
   },
   {
    "duration": 172,
    "start_time": "2024-01-23T13:26:30.399Z"
   },
   {
    "duration": 16,
    "start_time": "2024-01-23T13:26:30.573Z"
   },
   {
    "duration": 165,
    "start_time": "2024-01-23T13:26:30.594Z"
   },
   {
    "duration": 48,
    "start_time": "2024-01-23T13:26:30.761Z"
   },
   {
    "duration": 61,
    "start_time": "2024-01-23T13:26:30.810Z"
   },
   {
    "duration": 79,
    "start_time": "2024-01-23T13:26:30.872Z"
   },
   {
    "duration": 38,
    "start_time": "2024-01-23T13:26:30.953Z"
   },
   {
    "duration": 179,
    "start_time": "2024-01-23T13:26:30.992Z"
   },
   {
    "duration": 221,
    "start_time": "2024-01-23T13:26:31.173Z"
   },
   {
    "duration": 106,
    "start_time": "2024-01-23T13:26:31.395Z"
   },
   {
    "duration": 201,
    "start_time": "2024-01-23T13:26:31.502Z"
   },
   {
    "duration": 72,
    "start_time": "2024-01-23T13:26:31.705Z"
   },
   {
    "duration": 63,
    "start_time": "2024-01-23T13:26:31.780Z"
   },
   {
    "duration": 52,
    "start_time": "2024-01-23T13:26:31.844Z"
   },
   {
    "duration": 280,
    "start_time": "2024-01-23T13:26:31.897Z"
   },
   {
    "duration": 449,
    "start_time": "2024-01-23T13:26:32.178Z"
   },
   {
    "duration": 34,
    "start_time": "2024-01-23T13:26:32.628Z"
   },
   {
    "duration": 31,
    "start_time": "2024-01-23T13:26:32.664Z"
   },
   {
    "duration": 58,
    "start_time": "2024-01-23T13:26:32.697Z"
   },
   {
    "duration": 0,
    "start_time": "2024-01-23T13:26:32.756Z"
   },
   {
    "duration": 0,
    "start_time": "2024-01-23T13:26:32.757Z"
   },
   {
    "duration": 0,
    "start_time": "2024-01-23T13:26:32.758Z"
   },
   {
    "duration": 0,
    "start_time": "2024-01-23T13:26:32.759Z"
   },
   {
    "duration": 0,
    "start_time": "2024-01-23T13:26:32.760Z"
   },
   {
    "duration": 0,
    "start_time": "2024-01-23T13:26:32.761Z"
   },
   {
    "duration": 0,
    "start_time": "2024-01-23T13:26:32.762Z"
   },
   {
    "duration": 0,
    "start_time": "2024-01-23T13:26:32.763Z"
   },
   {
    "duration": 0,
    "start_time": "2024-01-23T13:26:32.764Z"
   },
   {
    "duration": 0,
    "start_time": "2024-01-23T13:26:32.765Z"
   },
   {
    "duration": 0,
    "start_time": "2024-01-23T13:26:32.767Z"
   },
   {
    "duration": 0,
    "start_time": "2024-01-23T13:26:32.768Z"
   },
   {
    "duration": 0,
    "start_time": "2024-01-23T13:26:32.769Z"
   },
   {
    "duration": 0,
    "start_time": "2024-01-23T13:26:32.770Z"
   },
   {
    "duration": 0,
    "start_time": "2024-01-23T13:26:32.771Z"
   },
   {
    "duration": 0,
    "start_time": "2024-01-23T13:26:32.771Z"
   },
   {
    "duration": 0,
    "start_time": "2024-01-23T13:26:32.772Z"
   },
   {
    "duration": 0,
    "start_time": "2024-01-23T13:26:32.773Z"
   },
   {
    "duration": 441,
    "start_time": "2024-01-23T13:27:04.693Z"
   },
   {
    "duration": 186,
    "start_time": "2024-01-23T13:27:05.136Z"
   },
   {
    "duration": 17,
    "start_time": "2024-01-23T13:27:05.324Z"
   },
   {
    "duration": 51,
    "start_time": "2024-01-23T13:27:05.342Z"
   },
   {
    "duration": 5,
    "start_time": "2024-01-23T13:27:05.395Z"
   },
   {
    "duration": 14,
    "start_time": "2024-01-23T13:27:05.401Z"
   },
   {
    "duration": 18,
    "start_time": "2024-01-23T13:27:05.416Z"
   },
   {
    "duration": 9,
    "start_time": "2024-01-23T13:27:05.435Z"
   },
   {
    "duration": 33,
    "start_time": "2024-01-23T13:27:05.445Z"
   },
   {
    "duration": 25,
    "start_time": "2024-01-23T13:27:05.480Z"
   },
   {
    "duration": 50,
    "start_time": "2024-01-23T13:27:05.506Z"
   },
   {
    "duration": 79,
    "start_time": "2024-01-23T13:27:05.558Z"
   },
   {
    "duration": 84,
    "start_time": "2024-01-23T13:27:05.639Z"
   },
   {
    "duration": 69,
    "start_time": "2024-01-23T13:27:05.726Z"
   },
   {
    "duration": 43,
    "start_time": "2024-01-23T13:27:05.797Z"
   },
   {
    "duration": 11,
    "start_time": "2024-01-23T13:27:05.841Z"
   },
   {
    "duration": 60,
    "start_time": "2024-01-23T13:27:05.854Z"
   },
   {
    "duration": 31,
    "start_time": "2024-01-23T13:27:05.916Z"
   },
   {
    "duration": 2,
    "start_time": "2024-01-23T13:27:05.948Z"
   },
   {
    "duration": 58,
    "start_time": "2024-01-23T13:27:05.952Z"
   },
   {
    "duration": 0,
    "start_time": "2024-01-23T13:27:06.011Z"
   },
   {
    "duration": 0,
    "start_time": "2024-01-23T13:27:06.013Z"
   },
   {
    "duration": 0,
    "start_time": "2024-01-23T13:27:06.014Z"
   },
   {
    "duration": 0,
    "start_time": "2024-01-23T13:27:06.014Z"
   },
   {
    "duration": 0,
    "start_time": "2024-01-23T13:27:06.016Z"
   },
   {
    "duration": 0,
    "start_time": "2024-01-23T13:27:06.017Z"
   },
   {
    "duration": 0,
    "start_time": "2024-01-23T13:27:06.017Z"
   },
   {
    "duration": 0,
    "start_time": "2024-01-23T13:27:06.018Z"
   },
   {
    "duration": 0,
    "start_time": "2024-01-23T13:27:06.019Z"
   },
   {
    "duration": 0,
    "start_time": "2024-01-23T13:27:06.020Z"
   },
   {
    "duration": 0,
    "start_time": "2024-01-23T13:27:06.021Z"
   },
   {
    "duration": 0,
    "start_time": "2024-01-23T13:27:06.022Z"
   },
   {
    "duration": 0,
    "start_time": "2024-01-23T13:27:06.023Z"
   },
   {
    "duration": 0,
    "start_time": "2024-01-23T13:27:06.024Z"
   },
   {
    "duration": 0,
    "start_time": "2024-01-23T13:27:06.025Z"
   },
   {
    "duration": 0,
    "start_time": "2024-01-23T13:27:06.026Z"
   },
   {
    "duration": 0,
    "start_time": "2024-01-23T13:27:06.027Z"
   },
   {
    "duration": 0,
    "start_time": "2024-01-23T13:27:06.028Z"
   },
   {
    "duration": 390,
    "start_time": "2024-01-23T13:30:06.714Z"
   },
   {
    "duration": 175,
    "start_time": "2024-01-23T13:30:07.105Z"
   },
   {
    "duration": 17,
    "start_time": "2024-01-23T13:30:07.281Z"
   },
   {
    "duration": 31,
    "start_time": "2024-01-23T13:30:07.300Z"
   },
   {
    "duration": 13,
    "start_time": "2024-01-23T13:30:07.332Z"
   },
   {
    "duration": 17,
    "start_time": "2024-01-23T13:30:07.346Z"
   },
   {
    "duration": 35,
    "start_time": "2024-01-23T13:30:07.364Z"
   },
   {
    "duration": 7,
    "start_time": "2024-01-23T13:30:07.401Z"
   },
   {
    "duration": 36,
    "start_time": "2024-01-23T13:30:07.409Z"
   },
   {
    "duration": 22,
    "start_time": "2024-01-23T13:30:07.447Z"
   },
   {
    "duration": 41,
    "start_time": "2024-01-23T13:30:07.470Z"
   },
   {
    "duration": 83,
    "start_time": "2024-01-23T13:30:07.513Z"
   },
   {
    "duration": 81,
    "start_time": "2024-01-23T13:30:07.598Z"
   },
   {
    "duration": 68,
    "start_time": "2024-01-23T13:30:07.680Z"
   },
   {
    "duration": 54,
    "start_time": "2024-01-23T13:30:07.750Z"
   },
   {
    "duration": 16,
    "start_time": "2024-01-23T13:30:07.805Z"
   },
   {
    "duration": 52,
    "start_time": "2024-01-23T13:30:07.822Z"
   },
   {
    "duration": 20,
    "start_time": "2024-01-23T13:30:07.875Z"
   },
   {
    "duration": 3,
    "start_time": "2024-01-23T13:30:07.896Z"
   },
   {
    "duration": 58,
    "start_time": "2024-01-23T13:30:07.900Z"
   },
   {
    "duration": 0,
    "start_time": "2024-01-23T13:30:07.960Z"
   },
   {
    "duration": 0,
    "start_time": "2024-01-23T13:30:07.961Z"
   },
   {
    "duration": 0,
    "start_time": "2024-01-23T13:30:07.962Z"
   },
   {
    "duration": 0,
    "start_time": "2024-01-23T13:30:07.963Z"
   },
   {
    "duration": 0,
    "start_time": "2024-01-23T13:30:07.964Z"
   },
   {
    "duration": 0,
    "start_time": "2024-01-23T13:30:07.966Z"
   },
   {
    "duration": 0,
    "start_time": "2024-01-23T13:30:07.967Z"
   },
   {
    "duration": 0,
    "start_time": "2024-01-23T13:30:07.968Z"
   },
   {
    "duration": 0,
    "start_time": "2024-01-23T13:30:07.969Z"
   },
   {
    "duration": 0,
    "start_time": "2024-01-23T13:30:07.970Z"
   },
   {
    "duration": 0,
    "start_time": "2024-01-23T13:30:07.971Z"
   },
   {
    "duration": 0,
    "start_time": "2024-01-23T13:30:07.972Z"
   },
   {
    "duration": 0,
    "start_time": "2024-01-23T13:30:07.973Z"
   },
   {
    "duration": 0,
    "start_time": "2024-01-23T13:30:07.974Z"
   },
   {
    "duration": 0,
    "start_time": "2024-01-23T13:30:07.974Z"
   },
   {
    "duration": 0,
    "start_time": "2024-01-23T13:30:07.975Z"
   },
   {
    "duration": 0,
    "start_time": "2024-01-23T13:30:07.976Z"
   },
   {
    "duration": 0,
    "start_time": "2024-01-23T13:30:07.978Z"
   },
   {
    "duration": 10,
    "start_time": "2024-01-23T13:33:18.778Z"
   },
   {
    "duration": 3,
    "start_time": "2024-01-23T13:37:18.639Z"
   },
   {
    "duration": 353,
    "start_time": "2024-01-23T13:37:32.046Z"
   },
   {
    "duration": 169,
    "start_time": "2024-01-23T13:37:32.401Z"
   },
   {
    "duration": 17,
    "start_time": "2024-01-23T13:37:32.571Z"
   },
   {
    "duration": 129,
    "start_time": "2024-01-23T13:37:32.589Z"
   },
   {
    "duration": 14,
    "start_time": "2024-01-23T13:37:32.720Z"
   },
   {
    "duration": 26,
    "start_time": "2024-01-23T13:37:32.736Z"
   },
   {
    "duration": 39,
    "start_time": "2024-01-23T13:37:32.764Z"
   },
   {
    "duration": 25,
    "start_time": "2024-01-23T13:37:32.804Z"
   },
   {
    "duration": 31,
    "start_time": "2024-01-23T13:37:32.830Z"
   },
   {
    "duration": 25,
    "start_time": "2024-01-23T13:37:32.864Z"
   },
   {
    "duration": 38,
    "start_time": "2024-01-23T13:37:32.891Z"
   },
   {
    "duration": 101,
    "start_time": "2024-01-23T13:37:32.930Z"
   },
   {
    "duration": 79,
    "start_time": "2024-01-23T13:37:33.032Z"
   },
   {
    "duration": 60,
    "start_time": "2024-01-23T13:37:33.112Z"
   },
   {
    "duration": 54,
    "start_time": "2024-01-23T13:37:33.173Z"
   },
   {
    "duration": 11,
    "start_time": "2024-01-23T13:37:33.229Z"
   },
   {
    "duration": 95,
    "start_time": "2024-01-23T13:37:33.241Z"
   },
   {
    "duration": 14,
    "start_time": "2024-01-23T13:37:33.338Z"
   },
   {
    "duration": 34,
    "start_time": "2024-01-23T13:37:33.354Z"
   },
   {
    "duration": 33,
    "start_time": "2024-01-23T13:37:33.389Z"
   },
   {
    "duration": 23,
    "start_time": "2024-01-23T13:37:33.424Z"
   },
   {
    "duration": 37,
    "start_time": "2024-01-23T13:37:33.448Z"
   },
   {
    "duration": 48,
    "start_time": "2024-01-23T13:37:33.486Z"
   },
   {
    "duration": 27,
    "start_time": "2024-01-23T13:37:33.536Z"
   },
   {
    "duration": 23,
    "start_time": "2024-01-23T13:37:33.564Z"
   },
   {
    "duration": 26,
    "start_time": "2024-01-23T13:37:33.589Z"
   },
   {
    "duration": 16,
    "start_time": "2024-01-23T13:37:33.616Z"
   },
   {
    "duration": 17,
    "start_time": "2024-01-23T13:37:33.635Z"
   },
   {
    "duration": 24,
    "start_time": "2024-01-23T13:37:33.654Z"
   },
   {
    "duration": 55,
    "start_time": "2024-01-23T13:37:33.680Z"
   },
   {
    "duration": 0,
    "start_time": "2024-01-23T13:37:33.737Z"
   },
   {
    "duration": 0,
    "start_time": "2024-01-23T13:37:33.738Z"
   },
   {
    "duration": 0,
    "start_time": "2024-01-23T13:37:33.739Z"
   },
   {
    "duration": 0,
    "start_time": "2024-01-23T13:37:33.740Z"
   },
   {
    "duration": 0,
    "start_time": "2024-01-23T13:37:33.741Z"
   },
   {
    "duration": 0,
    "start_time": "2024-01-23T13:37:33.742Z"
   },
   {
    "duration": 0,
    "start_time": "2024-01-23T13:37:33.743Z"
   },
   {
    "duration": 0,
    "start_time": "2024-01-23T13:37:33.743Z"
   },
   {
    "duration": 351,
    "start_time": "2024-01-23T13:39:34.245Z"
   },
   {
    "duration": 172,
    "start_time": "2024-01-23T13:39:34.598Z"
   },
   {
    "duration": 16,
    "start_time": "2024-01-23T13:39:34.772Z"
   },
   {
    "duration": 55,
    "start_time": "2024-01-23T13:39:34.794Z"
   },
   {
    "duration": 3,
    "start_time": "2024-01-23T13:39:34.851Z"
   },
   {
    "duration": 14,
    "start_time": "2024-01-23T13:39:34.855Z"
   },
   {
    "duration": 20,
    "start_time": "2024-01-23T13:39:34.870Z"
   },
   {
    "duration": 21,
    "start_time": "2024-01-23T13:39:34.892Z"
   },
   {
    "duration": 44,
    "start_time": "2024-01-23T13:39:34.914Z"
   },
   {
    "duration": 76,
    "start_time": "2024-01-23T13:39:34.960Z"
   },
   {
    "duration": 40,
    "start_time": "2024-01-23T13:39:35.037Z"
   },
   {
    "duration": 86,
    "start_time": "2024-01-23T13:39:35.078Z"
   },
   {
    "duration": 73,
    "start_time": "2024-01-23T13:39:35.166Z"
   },
   {
    "duration": 63,
    "start_time": "2024-01-23T13:39:35.243Z"
   },
   {
    "duration": 42,
    "start_time": "2024-01-23T13:39:35.308Z"
   },
   {
    "duration": 10,
    "start_time": "2024-01-23T13:39:35.352Z"
   },
   {
    "duration": 87,
    "start_time": "2024-01-23T13:39:35.364Z"
   },
   {
    "duration": 11,
    "start_time": "2024-01-23T13:39:35.452Z"
   },
   {
    "duration": 18,
    "start_time": "2024-01-23T13:39:35.464Z"
   },
   {
    "duration": 12,
    "start_time": "2024-01-23T13:39:35.483Z"
   },
   {
    "duration": 12,
    "start_time": "2024-01-23T13:39:35.496Z"
   },
   {
    "duration": 5,
    "start_time": "2024-01-23T13:39:35.510Z"
   },
   {
    "duration": 22,
    "start_time": "2024-01-23T13:39:35.516Z"
   },
   {
    "duration": 48,
    "start_time": "2024-01-23T13:39:35.539Z"
   },
   {
    "duration": 10,
    "start_time": "2024-01-23T13:39:35.589Z"
   },
   {
    "duration": 4,
    "start_time": "2024-01-23T13:39:35.600Z"
   },
   {
    "duration": 6,
    "start_time": "2024-01-23T13:39:35.605Z"
   },
   {
    "duration": 5,
    "start_time": "2024-01-23T13:39:35.612Z"
   },
   {
    "duration": 3,
    "start_time": "2024-01-23T13:39:35.618Z"
   },
   {
    "duration": 61,
    "start_time": "2024-01-23T13:39:35.623Z"
   },
   {
    "duration": 0,
    "start_time": "2024-01-23T13:39:35.685Z"
   },
   {
    "duration": 0,
    "start_time": "2024-01-23T13:39:35.686Z"
   },
   {
    "duration": 0,
    "start_time": "2024-01-23T13:39:35.687Z"
   },
   {
    "duration": 0,
    "start_time": "2024-01-23T13:39:35.688Z"
   },
   {
    "duration": 1,
    "start_time": "2024-01-23T13:39:35.689Z"
   },
   {
    "duration": 0,
    "start_time": "2024-01-23T13:39:35.690Z"
   },
   {
    "duration": 0,
    "start_time": "2024-01-23T13:39:35.691Z"
   },
   {
    "duration": 0,
    "start_time": "2024-01-23T13:39:35.692Z"
   },
   {
    "duration": 71,
    "start_time": "2024-01-23T13:42:31.388Z"
   },
   {
    "duration": 29,
    "start_time": "2024-01-23T13:43:08.791Z"
   },
   {
    "duration": 24,
    "start_time": "2024-01-23T13:44:53.875Z"
   },
   {
    "duration": 440,
    "start_time": "2024-01-23T13:47:56.391Z"
   },
   {
    "duration": 178,
    "start_time": "2024-01-23T13:47:56.833Z"
   },
   {
    "duration": 16,
    "start_time": "2024-01-23T13:47:57.013Z"
   },
   {
    "duration": 61,
    "start_time": "2024-01-23T13:47:57.031Z"
   },
   {
    "duration": 30,
    "start_time": "2024-01-23T13:47:57.093Z"
   },
   {
    "duration": 20,
    "start_time": "2024-01-23T13:47:57.124Z"
   },
   {
    "duration": 40,
    "start_time": "2024-01-23T13:47:57.145Z"
   },
   {
    "duration": 56,
    "start_time": "2024-01-23T13:47:57.187Z"
   },
   {
    "duration": 65,
    "start_time": "2024-01-23T13:47:57.245Z"
   },
   {
    "duration": 57,
    "start_time": "2024-01-23T13:47:57.313Z"
   },
   {
    "duration": 51,
    "start_time": "2024-01-23T13:47:57.372Z"
   },
   {
    "duration": 106,
    "start_time": "2024-01-23T13:47:57.424Z"
   },
   {
    "duration": 74,
    "start_time": "2024-01-23T13:47:57.532Z"
   },
   {
    "duration": 59,
    "start_time": "2024-01-23T13:47:57.607Z"
   },
   {
    "duration": 56,
    "start_time": "2024-01-23T13:47:57.667Z"
   },
   {
    "duration": 16,
    "start_time": "2024-01-23T13:47:57.724Z"
   },
   {
    "duration": 97,
    "start_time": "2024-01-23T13:47:57.741Z"
   },
   {
    "duration": 11,
    "start_time": "2024-01-23T13:47:57.839Z"
   },
   {
    "duration": 33,
    "start_time": "2024-01-23T13:47:57.852Z"
   },
   {
    "duration": 25,
    "start_time": "2024-01-23T13:47:57.887Z"
   },
   {
    "duration": 64,
    "start_time": "2024-01-23T13:47:57.913Z"
   },
   {
    "duration": 42,
    "start_time": "2024-01-23T13:47:57.979Z"
   },
   {
    "duration": 37,
    "start_time": "2024-01-23T13:47:58.022Z"
   },
   {
    "duration": 52,
    "start_time": "2024-01-23T13:47:58.060Z"
   },
   {
    "duration": 43,
    "start_time": "2024-01-23T13:47:58.114Z"
   },
   {
    "duration": 54,
    "start_time": "2024-01-23T13:47:58.159Z"
   },
   {
    "duration": 34,
    "start_time": "2024-01-23T13:47:58.214Z"
   },
   {
    "duration": 41,
    "start_time": "2024-01-23T13:47:58.251Z"
   },
   {
    "duration": 39,
    "start_time": "2024-01-23T13:47:58.293Z"
   },
   {
    "duration": 72,
    "start_time": "2024-01-23T13:47:58.334Z"
   },
   {
    "duration": 0,
    "start_time": "2024-01-23T13:47:58.407Z"
   },
   {
    "duration": 0,
    "start_time": "2024-01-23T13:47:58.408Z"
   },
   {
    "duration": 0,
    "start_time": "2024-01-23T13:47:58.409Z"
   },
   {
    "duration": 0,
    "start_time": "2024-01-23T13:47:58.410Z"
   },
   {
    "duration": 0,
    "start_time": "2024-01-23T13:47:58.411Z"
   },
   {
    "duration": 0,
    "start_time": "2024-01-23T13:47:58.412Z"
   },
   {
    "duration": 0,
    "start_time": "2024-01-23T13:47:58.413Z"
   },
   {
    "duration": 0,
    "start_time": "2024-01-23T13:47:58.414Z"
   },
   {
    "duration": 60,
    "start_time": "2024-01-23T13:54:10.099Z"
   },
   {
    "duration": 387,
    "start_time": "2024-01-23T13:54:31.707Z"
   },
   {
    "duration": 161,
    "start_time": "2024-01-23T13:54:32.096Z"
   },
   {
    "duration": 15,
    "start_time": "2024-01-23T13:54:32.259Z"
   },
   {
    "duration": 34,
    "start_time": "2024-01-23T13:54:32.275Z"
   },
   {
    "duration": 41,
    "start_time": "2024-01-23T13:54:32.311Z"
   },
   {
    "duration": 43,
    "start_time": "2024-01-23T13:54:32.353Z"
   },
   {
    "duration": 20,
    "start_time": "2024-01-23T13:54:32.397Z"
   },
   {
    "duration": 10,
    "start_time": "2024-01-23T13:54:32.418Z"
   },
   {
    "duration": 64,
    "start_time": "2024-01-23T13:54:32.429Z"
   },
   {
    "duration": 36,
    "start_time": "2024-01-23T13:54:32.495Z"
   },
   {
    "duration": 60,
    "start_time": "2024-01-23T13:54:32.532Z"
   },
   {
    "duration": 77,
    "start_time": "2024-01-23T13:54:32.593Z"
   },
   {
    "duration": 77,
    "start_time": "2024-01-23T13:54:32.672Z"
   },
   {
    "duration": 67,
    "start_time": "2024-01-23T13:54:32.751Z"
   },
   {
    "duration": 44,
    "start_time": "2024-01-23T13:54:32.819Z"
   },
   {
    "duration": 31,
    "start_time": "2024-01-23T13:54:32.864Z"
   },
   {
    "duration": 74,
    "start_time": "2024-01-23T13:54:32.897Z"
   },
   {
    "duration": 10,
    "start_time": "2024-01-23T13:54:32.973Z"
   },
   {
    "duration": 42,
    "start_time": "2024-01-23T13:54:32.985Z"
   },
   {
    "duration": 54,
    "start_time": "2024-01-23T13:54:33.029Z"
   },
   {
    "duration": 49,
    "start_time": "2024-01-23T13:54:33.084Z"
   },
   {
    "duration": 33,
    "start_time": "2024-01-23T13:54:33.134Z"
   },
   {
    "duration": 60,
    "start_time": "2024-01-23T13:54:33.169Z"
   },
   {
    "duration": 38,
    "start_time": "2024-01-23T13:54:33.231Z"
   },
   {
    "duration": 62,
    "start_time": "2024-01-23T13:54:33.271Z"
   },
   {
    "duration": 34,
    "start_time": "2024-01-23T13:54:33.334Z"
   },
   {
    "duration": 17,
    "start_time": "2024-01-23T13:54:33.369Z"
   },
   {
    "duration": 22,
    "start_time": "2024-01-23T13:54:33.387Z"
   },
   {
    "duration": 30,
    "start_time": "2024-01-23T13:54:33.410Z"
   },
   {
    "duration": 80,
    "start_time": "2024-01-23T13:54:33.442Z"
   },
   {
    "duration": 0,
    "start_time": "2024-01-23T13:54:33.523Z"
   },
   {
    "duration": 0,
    "start_time": "2024-01-23T13:54:33.524Z"
   },
   {
    "duration": 0,
    "start_time": "2024-01-23T13:54:33.525Z"
   },
   {
    "duration": 0,
    "start_time": "2024-01-23T13:54:33.526Z"
   },
   {
    "duration": 0,
    "start_time": "2024-01-23T13:54:33.527Z"
   },
   {
    "duration": 0,
    "start_time": "2024-01-23T13:54:33.528Z"
   },
   {
    "duration": 0,
    "start_time": "2024-01-23T13:54:33.529Z"
   },
   {
    "duration": 0,
    "start_time": "2024-01-23T13:54:33.530Z"
   },
   {
    "duration": 9,
    "start_time": "2024-01-23T13:58:22.231Z"
   },
   {
    "duration": 4,
    "start_time": "2024-01-23T14:04:18.808Z"
   }
  ],
  "celltoolbar": "Отсутствует",
  "colab": {
   "collapsed_sections": [
    "E0vqbgi9ay0H",
    "VUC88oWjTJw2"
   ],
   "provenance": []
  },
  "kernelspec": {
   "display_name": "Python 3 (ipykernel)",
   "language": "python",
   "name": "python3"
  },
  "language_info": {
   "codemirror_mode": {
    "name": "ipython",
    "version": 3
   },
   "file_extension": ".py",
   "mimetype": "text/x-python",
   "name": "python",
   "nbconvert_exporter": "python",
   "pygments_lexer": "ipython3",
   "version": "3.11.5"
  },
  "toc": {
   "base_numbering": 1,
   "nav_menu": {
    "height": "215px",
    "width": "403px"
   },
   "number_sections": true,
   "sideBar": true,
   "skip_h1_title": true,
   "title_cell": "Table of Contents",
   "title_sidebar": "Contents",
   "toc_cell": false,
   "toc_position": {
    "height": "calc(100% - 180px)",
    "left": "10px",
    "top": "150px",
    "width": "285.825px"
   },
   "toc_section_display": true,
   "toc_window_display": false
  }
 },
 "nbformat": 4,
 "nbformat_minor": 4
}
